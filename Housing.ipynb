{
 "cells": [
  {
   "cell_type": "markdown",
   "metadata": {},
   "source": [
    "# Get the data\n",
    "\n",
    "Function to fetch the data:"
   ]
  },
  {
   "cell_type": "code",
   "execution_count": 1,
   "metadata": {},
   "outputs": [],
   "source": [
    "import os\n",
    "\n",
    "# To save the figures\n",
    "PROJECT_ROOT_DIR = \".\"\n",
    "CHAPTER_ID = \"end_to_end_project\"\n",
    "IMAGES_PATH = os.path.join(PROJECT_ROOT_DIR, \"images\", CHAPTER_ID)\n",
    "os.makedirs(IMAGES_PATH, exist_ok=True)\n",
    "\n",
    "def save_fig(fig_id, tight_layout=True, fig_extension=\"png\", resolution=300):\n",
    "    path = os.path.join(IMAGES_PATH, fig_id + \".\" + fig_extension)\n",
    "    print(\"Saving figure\", fig_id)\n",
    "    if tight_layout:\n",
    "        plt.tight_layout()\n",
    "    plt.savefig(path, format=fig_extension, dpi=resolution)\n"
   ]
  },
  {
   "cell_type": "code",
   "execution_count": 2,
   "metadata": {},
   "outputs": [],
   "source": [
    "import tarfile\n",
    "import urllib\n",
    "\n",
    "DOWNLOAD_ROOT = \"https://raw.githubusercontent.com/ageron/handson-ml2/master/\"\n",
    "HOUSING_PATH = os.path.join(\"datasets\", \"housing\")\n",
    "HOUSING_URL = DOWNLOAD_ROOT + \"datasets/housing/housing.tgz\"\n",
    "\n",
    "def fetch_housing_data(housing_url=HOUSING_URL, housing_path=HOUSING_PATH):\n",
    "    if not os.path.isdir(housing_path):\n",
    "        os.makedirs(housing_path)\n",
    "    tgz_path = os.path.join(housing_path, \"housing.tgz\")\n",
    "    urllib.request.urlretrieve(housing_url, tgz_path)\n",
    "    housing_tgz = tarfile.open(tgz_path)\n",
    "    housing_tgz.extractall(path=housing_path)\n",
    "    housing_tgz.close()"
   ]
  },
  {
   "cell_type": "code",
   "execution_count": 3,
   "metadata": {},
   "outputs": [],
   "source": [
    "fetch_housing_data()"
   ]
  },
  {
   "cell_type": "markdown",
   "metadata": {},
   "source": [
    "Function to load the data:"
   ]
  },
  {
   "cell_type": "code",
   "execution_count": 4,
   "metadata": {},
   "outputs": [],
   "source": [
    "import pandas as pd\n",
    "\n",
    "def load_housing_data(housing_path=HOUSING_PATH):\n",
    "    csv_path = os.path.join(housing_path, \"housing.csv\")\n",
    "    return pd.read_csv(csv_path)"
   ]
  },
  {
   "cell_type": "code",
   "execution_count": 5,
   "metadata": {},
   "outputs": [
    {
     "data": {
      "text/html": [
       "<div>\n",
       "<style scoped>\n",
       "    .dataframe tbody tr th:only-of-type {\n",
       "        vertical-align: middle;\n",
       "    }\n",
       "\n",
       "    .dataframe tbody tr th {\n",
       "        vertical-align: top;\n",
       "    }\n",
       "\n",
       "    .dataframe thead th {\n",
       "        text-align: right;\n",
       "    }\n",
       "</style>\n",
       "<table border=\"1\" class=\"dataframe\">\n",
       "  <thead>\n",
       "    <tr style=\"text-align: right;\">\n",
       "      <th></th>\n",
       "      <th>longitude</th>\n",
       "      <th>latitude</th>\n",
       "      <th>housing_median_age</th>\n",
       "      <th>total_rooms</th>\n",
       "      <th>total_bedrooms</th>\n",
       "      <th>population</th>\n",
       "      <th>households</th>\n",
       "      <th>median_income</th>\n",
       "      <th>median_house_value</th>\n",
       "      <th>ocean_proximity</th>\n",
       "    </tr>\n",
       "  </thead>\n",
       "  <tbody>\n",
       "    <tr>\n",
       "      <td>0</td>\n",
       "      <td>-122.23</td>\n",
       "      <td>37.88</td>\n",
       "      <td>41.0</td>\n",
       "      <td>880.0</td>\n",
       "      <td>129.0</td>\n",
       "      <td>322.0</td>\n",
       "      <td>126.0</td>\n",
       "      <td>8.3252</td>\n",
       "      <td>452600.0</td>\n",
       "      <td>NEAR BAY</td>\n",
       "    </tr>\n",
       "    <tr>\n",
       "      <td>1</td>\n",
       "      <td>-122.22</td>\n",
       "      <td>37.86</td>\n",
       "      <td>21.0</td>\n",
       "      <td>7099.0</td>\n",
       "      <td>1106.0</td>\n",
       "      <td>2401.0</td>\n",
       "      <td>1138.0</td>\n",
       "      <td>8.3014</td>\n",
       "      <td>358500.0</td>\n",
       "      <td>NEAR BAY</td>\n",
       "    </tr>\n",
       "    <tr>\n",
       "      <td>2</td>\n",
       "      <td>-122.24</td>\n",
       "      <td>37.85</td>\n",
       "      <td>52.0</td>\n",
       "      <td>1467.0</td>\n",
       "      <td>190.0</td>\n",
       "      <td>496.0</td>\n",
       "      <td>177.0</td>\n",
       "      <td>7.2574</td>\n",
       "      <td>352100.0</td>\n",
       "      <td>NEAR BAY</td>\n",
       "    </tr>\n",
       "    <tr>\n",
       "      <td>3</td>\n",
       "      <td>-122.25</td>\n",
       "      <td>37.85</td>\n",
       "      <td>52.0</td>\n",
       "      <td>1274.0</td>\n",
       "      <td>235.0</td>\n",
       "      <td>558.0</td>\n",
       "      <td>219.0</td>\n",
       "      <td>5.6431</td>\n",
       "      <td>341300.0</td>\n",
       "      <td>NEAR BAY</td>\n",
       "    </tr>\n",
       "    <tr>\n",
       "      <td>4</td>\n",
       "      <td>-122.25</td>\n",
       "      <td>37.85</td>\n",
       "      <td>52.0</td>\n",
       "      <td>1627.0</td>\n",
       "      <td>280.0</td>\n",
       "      <td>565.0</td>\n",
       "      <td>259.0</td>\n",
       "      <td>3.8462</td>\n",
       "      <td>342200.0</td>\n",
       "      <td>NEAR BAY</td>\n",
       "    </tr>\n",
       "  </tbody>\n",
       "</table>\n",
       "</div>"
      ],
      "text/plain": [
       "   longitude  latitude  housing_median_age  total_rooms  total_bedrooms  \\\n",
       "0    -122.23     37.88                41.0        880.0           129.0   \n",
       "1    -122.22     37.86                21.0       7099.0          1106.0   \n",
       "2    -122.24     37.85                52.0       1467.0           190.0   \n",
       "3    -122.25     37.85                52.0       1274.0           235.0   \n",
       "4    -122.25     37.85                52.0       1627.0           280.0   \n",
       "\n",
       "   population  households  median_income  median_house_value ocean_proximity  \n",
       "0       322.0       126.0         8.3252            452600.0        NEAR BAY  \n",
       "1      2401.0      1138.0         8.3014            358500.0        NEAR BAY  \n",
       "2       496.0       177.0         7.2574            352100.0        NEAR BAY  \n",
       "3       558.0       219.0         5.6431            341300.0        NEAR BAY  \n",
       "4       565.0       259.0         3.8462            342200.0        NEAR BAY  "
      ]
     },
     "execution_count": 5,
     "metadata": {},
     "output_type": "execute_result"
    }
   ],
   "source": [
    "housing = load_housing_data()\n",
    "housing.head()"
   ]
  },
  {
   "cell_type": "markdown",
   "metadata": {},
   "source": [
    "The **info()** method is useful to get a quick description of the data, in particular the total number of rows, each attribute's type, and the number of non-null values."
   ]
  },
  {
   "cell_type": "code",
   "execution_count": 6,
   "metadata": {},
   "outputs": [
    {
     "name": "stdout",
     "output_type": "stream",
     "text": [
      "<class 'pandas.core.frame.DataFrame'>\n",
      "RangeIndex: 20640 entries, 0 to 20639\n",
      "Data columns (total 10 columns):\n",
      "longitude             20640 non-null float64\n",
      "latitude              20640 non-null float64\n",
      "housing_median_age    20640 non-null float64\n",
      "total_rooms           20640 non-null float64\n",
      "total_bedrooms        20433 non-null float64\n",
      "population            20640 non-null float64\n",
      "households            20640 non-null float64\n",
      "median_income         20640 non-null float64\n",
      "median_house_value    20640 non-null float64\n",
      "ocean_proximity       20640 non-null object\n",
      "dtypes: float64(9), object(1)\n",
      "memory usage: 1.6+ MB\n"
     ]
    }
   ],
   "source": [
    "housing.info()"
   ]
  },
  {
   "cell_type": "markdown",
   "metadata": {},
   "source": [
    "Notice that the total_bedrooms attribute has only 20,433 non-null values, meaning that 207 districts are missing this feature."
   ]
  },
  {
   "cell_type": "markdown",
   "metadata": {},
   "source": [
    "The **value_counts()** (Pandas) method returns the count of various categories of a particular feature. The resulting object will be in descending order so that the first element is the most frequently occurring element.. I texcludes NA values by default "
   ]
  },
  {
   "cell_type": "code",
   "execution_count": 7,
   "metadata": {},
   "outputs": [
    {
     "data": {
      "text/plain": [
       "<1H OCEAN     9136\n",
       "INLAND        6551\n",
       "NEAR OCEAN    2658\n",
       "NEAR BAY      2290\n",
       "ISLAND           5\n",
       "Name: ocean_proximity, dtype: int64"
      ]
     },
     "execution_count": 7,
     "metadata": {},
     "output_type": "execute_result"
    }
   ],
   "source": [
    "housing[\"ocean_proximity\"].value_counts()"
   ]
  },
  {
   "cell_type": "markdown",
   "metadata": {},
   "source": [
    "The **describe()** method shows the summary of numerical attributes."
   ]
  },
  {
   "cell_type": "code",
   "execution_count": 8,
   "metadata": {},
   "outputs": [
    {
     "data": {
      "text/html": [
       "<div>\n",
       "<style scoped>\n",
       "    .dataframe tbody tr th:only-of-type {\n",
       "        vertical-align: middle;\n",
       "    }\n",
       "\n",
       "    .dataframe tbody tr th {\n",
       "        vertical-align: top;\n",
       "    }\n",
       "\n",
       "    .dataframe thead th {\n",
       "        text-align: right;\n",
       "    }\n",
       "</style>\n",
       "<table border=\"1\" class=\"dataframe\">\n",
       "  <thead>\n",
       "    <tr style=\"text-align: right;\">\n",
       "      <th></th>\n",
       "      <th>longitude</th>\n",
       "      <th>latitude</th>\n",
       "      <th>housing_median_age</th>\n",
       "      <th>total_rooms</th>\n",
       "      <th>total_bedrooms</th>\n",
       "      <th>population</th>\n",
       "      <th>households</th>\n",
       "      <th>median_income</th>\n",
       "      <th>median_house_value</th>\n",
       "    </tr>\n",
       "  </thead>\n",
       "  <tbody>\n",
       "    <tr>\n",
       "      <td>count</td>\n",
       "      <td>20640.000000</td>\n",
       "      <td>20640.000000</td>\n",
       "      <td>20640.000000</td>\n",
       "      <td>20640.000000</td>\n",
       "      <td>20433.000000</td>\n",
       "      <td>20640.000000</td>\n",
       "      <td>20640.000000</td>\n",
       "      <td>20640.000000</td>\n",
       "      <td>20640.000000</td>\n",
       "    </tr>\n",
       "    <tr>\n",
       "      <td>mean</td>\n",
       "      <td>-119.569704</td>\n",
       "      <td>35.631861</td>\n",
       "      <td>28.639486</td>\n",
       "      <td>2635.763081</td>\n",
       "      <td>537.870553</td>\n",
       "      <td>1425.476744</td>\n",
       "      <td>499.539680</td>\n",
       "      <td>3.870671</td>\n",
       "      <td>206855.816909</td>\n",
       "    </tr>\n",
       "    <tr>\n",
       "      <td>std</td>\n",
       "      <td>2.003532</td>\n",
       "      <td>2.135952</td>\n",
       "      <td>12.585558</td>\n",
       "      <td>2181.615252</td>\n",
       "      <td>421.385070</td>\n",
       "      <td>1132.462122</td>\n",
       "      <td>382.329753</td>\n",
       "      <td>1.899822</td>\n",
       "      <td>115395.615874</td>\n",
       "    </tr>\n",
       "    <tr>\n",
       "      <td>min</td>\n",
       "      <td>-124.350000</td>\n",
       "      <td>32.540000</td>\n",
       "      <td>1.000000</td>\n",
       "      <td>2.000000</td>\n",
       "      <td>1.000000</td>\n",
       "      <td>3.000000</td>\n",
       "      <td>1.000000</td>\n",
       "      <td>0.499900</td>\n",
       "      <td>14999.000000</td>\n",
       "    </tr>\n",
       "    <tr>\n",
       "      <td>25%</td>\n",
       "      <td>-121.800000</td>\n",
       "      <td>33.930000</td>\n",
       "      <td>18.000000</td>\n",
       "      <td>1447.750000</td>\n",
       "      <td>296.000000</td>\n",
       "      <td>787.000000</td>\n",
       "      <td>280.000000</td>\n",
       "      <td>2.563400</td>\n",
       "      <td>119600.000000</td>\n",
       "    </tr>\n",
       "    <tr>\n",
       "      <td>50%</td>\n",
       "      <td>-118.490000</td>\n",
       "      <td>34.260000</td>\n",
       "      <td>29.000000</td>\n",
       "      <td>2127.000000</td>\n",
       "      <td>435.000000</td>\n",
       "      <td>1166.000000</td>\n",
       "      <td>409.000000</td>\n",
       "      <td>3.534800</td>\n",
       "      <td>179700.000000</td>\n",
       "    </tr>\n",
       "    <tr>\n",
       "      <td>75%</td>\n",
       "      <td>-118.010000</td>\n",
       "      <td>37.710000</td>\n",
       "      <td>37.000000</td>\n",
       "      <td>3148.000000</td>\n",
       "      <td>647.000000</td>\n",
       "      <td>1725.000000</td>\n",
       "      <td>605.000000</td>\n",
       "      <td>4.743250</td>\n",
       "      <td>264725.000000</td>\n",
       "    </tr>\n",
       "    <tr>\n",
       "      <td>max</td>\n",
       "      <td>-114.310000</td>\n",
       "      <td>41.950000</td>\n",
       "      <td>52.000000</td>\n",
       "      <td>39320.000000</td>\n",
       "      <td>6445.000000</td>\n",
       "      <td>35682.000000</td>\n",
       "      <td>6082.000000</td>\n",
       "      <td>15.000100</td>\n",
       "      <td>500001.000000</td>\n",
       "    </tr>\n",
       "  </tbody>\n",
       "</table>\n",
       "</div>"
      ],
      "text/plain": [
       "          longitude      latitude  housing_median_age   total_rooms  \\\n",
       "count  20640.000000  20640.000000        20640.000000  20640.000000   \n",
       "mean    -119.569704     35.631861           28.639486   2635.763081   \n",
       "std        2.003532      2.135952           12.585558   2181.615252   \n",
       "min     -124.350000     32.540000            1.000000      2.000000   \n",
       "25%     -121.800000     33.930000           18.000000   1447.750000   \n",
       "50%     -118.490000     34.260000           29.000000   2127.000000   \n",
       "75%     -118.010000     37.710000           37.000000   3148.000000   \n",
       "max     -114.310000     41.950000           52.000000  39320.000000   \n",
       "\n",
       "       total_bedrooms    population    households  median_income  \\\n",
       "count    20433.000000  20640.000000  20640.000000   20640.000000   \n",
       "mean       537.870553   1425.476744    499.539680       3.870671   \n",
       "std        421.385070   1132.462122    382.329753       1.899822   \n",
       "min          1.000000      3.000000      1.000000       0.499900   \n",
       "25%        296.000000    787.000000    280.000000       2.563400   \n",
       "50%        435.000000   1166.000000    409.000000       3.534800   \n",
       "75%        647.000000   1725.000000    605.000000       4.743250   \n",
       "max       6445.000000  35682.000000   6082.000000      15.000100   \n",
       "\n",
       "       median_house_value  \n",
       "count        20640.000000  \n",
       "mean        206855.816909  \n",
       "std         115395.615874  \n",
       "min          14999.000000  \n",
       "25%         119600.000000  \n",
       "50%         179700.000000  \n",
       "75%         264725.000000  \n",
       "max         500001.000000  "
      ]
     },
     "execution_count": 8,
     "metadata": {},
     "output_type": "execute_result"
    }
   ],
   "source": [
    "housing.describe()"
   ]
  },
  {
   "cell_type": "code",
   "execution_count": 9,
   "metadata": {
    "scrolled": false
   },
   "outputs": [
    {
     "data": {
      "image/png": "[encoded data removed]",
      "text/plain": [
       "<Figure size 1440x1080 with 9 Axes>"
      ]
     },
     "metadata": {
      "needs_background": "light"
     },
     "output_type": "display_data"
    }
   ],
   "source": [
    "%matplotlib inline\n",
    "import matplotlib.pyplot as plt\n",
    "housing.hist(bins=50,figsize=(20,15))\n",
    "plt.show()"
   ]
  },
  {
   "cell_type": "markdown",
   "metadata": {},
   "source": [
    "**hist()** method plots a histogram for each numerical attribute for the entire dataset.\n",
    "\n",
    "The hist() method relies on Matplotlib, which in turn relies on a user-specified graphical backend to draw on our screen. So before we can plot anything, we need to specify which backend Matplotlib should use. The simplest option is to use %matplotlib inline . This tells Jupyter to set up Matplotlib so it uses Jupyter's own backend. Note that calling show() is optional in a jupyter notebook, as Jupyter will automatically display plots when a cell is executed."
   ]
  },
  {
   "cell_type": "code",
   "execution_count": 10,
   "metadata": {},
   "outputs": [],
   "source": [
    "import numpy as np\n",
    "np.random.seed(42)"
   ]
  },
  {
   "cell_type": "markdown",
   "metadata": {},
   "source": [
    "If we set the **np.random.seed(fixed_number)** , everytime we call the numpy's other random function, the result will be same."
   ]
  },
  {
   "cell_type": "code",
   "execution_count": 11,
   "metadata": {},
   "outputs": [],
   "source": [
    "def split_train_test(data,test_ratio):\n",
    "    shuffled_indices=np.random.permutation(len(data))\n",
    "    test_set_size=int(len(data)*test_ratio)\n",
    "    test_indices=shuffled_indices[:test_set_size]\n",
    "    train_indices=shuffled_indices[test_set_size:]\n",
    "    return data.iloc[train_indices],data.iloc[test_indices]"
   ]
  },
  {
   "cell_type": "markdown",
   "metadata": {},
   "source": [
    "**np.random.permutation(x)**- (Numpy) Randomly permutes a sequence, or return a permuted range."
   ]
  },
  {
   "cell_type": "code",
   "execution_count": 12,
   "metadata": {},
   "outputs": [
    {
     "name": "stdout",
     "output_type": "stream",
     "text": [
      "16512\n",
      "4128\n"
     ]
    }
   ],
   "source": [
    "train_set,test_set=split_train_test(housing,0.2)\n",
    "print(len(train_set))\n",
    "print(len(test_set))"
   ]
  },
  {
   "cell_type": "markdown",
   "metadata": {},
   "source": [
    "The above solution will break the next time you fetch an updated dataset.To have a stable train/test split even after updating the dataset, a common solution is to use instance's identifier to decide whether or not it should go in the test set (assuming that instances have a unique and immutable identifier).\n",
    "\n",
    "We can compute a hash of each instance's identifier and put that instance in the test set is the hash is lower than or equal to 20% of the maximum hash value. This ensures the test set will remain consistent across multiple runs, even if we refresh the dataset. The new test will contain 20% of the new instances, but will not contain any instance that was previously in the training set.\n",
    "\n",
    "Here's the implementation:"
   ]
  },
  {
   "cell_type": "code",
   "execution_count": 13,
   "metadata": {},
   "outputs": [],
   "source": [
    "from zlib import crc32\n",
    "\n",
    "def test_set_check(identifier,test_ratio):\n",
    "    return crc32(np.int64(identifier)) & 0xffffffff < test_ratio * 2**32\n",
    "\n",
    "def split_train_test_by_id(data,test_ratio,id_column):\n",
    "    ids=data[id_column]\n",
    "    in_test_set=ids.apply(lambda id_: test_set_check(id_,test_ratio))\n",
    "    return data.loc[~in_test_set],data.loc[in_test_set]"
   ]
  },
  {
   "cell_type": "code",
   "execution_count": 14,
   "metadata": {},
   "outputs": [],
   "source": [
    "import hashlib\n",
    "\n",
    "def test_set_check(identifier,test_ratio,hash=hashlib.md5):\n",
    "    return hash(np.int64(identifier)).digest()[-1] < 256 * test_ratio"
   ]
  },
  {
   "cell_type": "code",
   "execution_count": 15,
   "metadata": {},
   "outputs": [],
   "source": [
    "def test_set_check(identifier, test_ratio, hash=hashlib.md5):\n",
    "    return bytearray(hash(np.int64(identifier)).digest())[-1] < 256 * test_ratio"
   ]
  },
  {
   "cell_type": "markdown",
   "metadata": {},
   "source": [
    "The housing dataset does not have an identifier column. The simplest solution is to use the row index as ID :\n"
   ]
  },
  {
   "cell_type": "code",
   "execution_count": 16,
   "metadata": {},
   "outputs": [],
   "source": [
    "housing_with_id = housing.reset_index()   # adds an `index` column\n",
    "train_set, test_set = split_train_test_by_id(housing_with_id, 0.2, \"index\")"
   ]
  },
  {
   "cell_type": "markdown",
   "metadata": {},
   "source": [
    "**reset_index()** - (Pandas) It reset the index of the dataframe, and use the default one instead.  \n",
    "\n",
    "If we use row index as unique identifier, we need to make sure that the new data gets apppended to the end of the dataset and that no row ever gets deleted. If this is not possible, then we can try the most stable features to build a unique ID:"
   ]
  },
  {
   "cell_type": "code",
   "execution_count": 17,
   "metadata": {},
   "outputs": [],
   "source": [
    "housing_with_id[\"id\"] = housing[\"longitude\"] * 1000 + housing[\"latitude\"]\n",
    "train_set, test_set = split_train_test_by_id(housing_with_id, 0.2, \"id\")"
   ]
  },
  {
   "cell_type": "code",
   "execution_count": 18,
   "metadata": {},
   "outputs": [
    {
     "data": {
      "text/html": [
       "<div>\n",
       "<style scoped>\n",
       "    .dataframe tbody tr th:only-of-type {\n",
       "        vertical-align: middle;\n",
       "    }\n",
       "\n",
       "    .dataframe tbody tr th {\n",
       "        vertical-align: top;\n",
       "    }\n",
       "\n",
       "    .dataframe thead th {\n",
       "        text-align: right;\n",
       "    }\n",
       "</style>\n",
       "<table border=\"1\" class=\"dataframe\">\n",
       "  <thead>\n",
       "    <tr style=\"text-align: right;\">\n",
       "      <th></th>\n",
       "      <th>index</th>\n",
       "      <th>longitude</th>\n",
       "      <th>latitude</th>\n",
       "      <th>housing_median_age</th>\n",
       "      <th>total_rooms</th>\n",
       "      <th>total_bedrooms</th>\n",
       "      <th>population</th>\n",
       "      <th>households</th>\n",
       "      <th>median_income</th>\n",
       "      <th>median_house_value</th>\n",
       "      <th>ocean_proximity</th>\n",
       "      <th>id</th>\n",
       "    </tr>\n",
       "  </thead>\n",
       "  <tbody>\n",
       "    <tr>\n",
       "      <td>8</td>\n",
       "      <td>8</td>\n",
       "      <td>-122.26</td>\n",
       "      <td>37.84</td>\n",
       "      <td>42.0</td>\n",
       "      <td>2555.0</td>\n",
       "      <td>665.0</td>\n",
       "      <td>1206.0</td>\n",
       "      <td>595.0</td>\n",
       "      <td>2.0804</td>\n",
       "      <td>226700.0</td>\n",
       "      <td>NEAR BAY</td>\n",
       "      <td>-122222.16</td>\n",
       "    </tr>\n",
       "    <tr>\n",
       "      <td>10</td>\n",
       "      <td>10</td>\n",
       "      <td>-122.26</td>\n",
       "      <td>37.85</td>\n",
       "      <td>52.0</td>\n",
       "      <td>2202.0</td>\n",
       "      <td>434.0</td>\n",
       "      <td>910.0</td>\n",
       "      <td>402.0</td>\n",
       "      <td>3.2031</td>\n",
       "      <td>281500.0</td>\n",
       "      <td>NEAR BAY</td>\n",
       "      <td>-122222.15</td>\n",
       "    </tr>\n",
       "    <tr>\n",
       "      <td>11</td>\n",
       "      <td>11</td>\n",
       "      <td>-122.26</td>\n",
       "      <td>37.85</td>\n",
       "      <td>52.0</td>\n",
       "      <td>3503.0</td>\n",
       "      <td>752.0</td>\n",
       "      <td>1504.0</td>\n",
       "      <td>734.0</td>\n",
       "      <td>3.2705</td>\n",
       "      <td>241800.0</td>\n",
       "      <td>NEAR BAY</td>\n",
       "      <td>-122222.15</td>\n",
       "    </tr>\n",
       "    <tr>\n",
       "      <td>12</td>\n",
       "      <td>12</td>\n",
       "      <td>-122.26</td>\n",
       "      <td>37.85</td>\n",
       "      <td>52.0</td>\n",
       "      <td>2491.0</td>\n",
       "      <td>474.0</td>\n",
       "      <td>1098.0</td>\n",
       "      <td>468.0</td>\n",
       "      <td>3.0750</td>\n",
       "      <td>213500.0</td>\n",
       "      <td>NEAR BAY</td>\n",
       "      <td>-122222.15</td>\n",
       "    </tr>\n",
       "    <tr>\n",
       "      <td>13</td>\n",
       "      <td>13</td>\n",
       "      <td>-122.26</td>\n",
       "      <td>37.84</td>\n",
       "      <td>52.0</td>\n",
       "      <td>696.0</td>\n",
       "      <td>191.0</td>\n",
       "      <td>345.0</td>\n",
       "      <td>174.0</td>\n",
       "      <td>2.6736</td>\n",
       "      <td>191300.0</td>\n",
       "      <td>NEAR BAY</td>\n",
       "      <td>-122222.16</td>\n",
       "    </tr>\n",
       "  </tbody>\n",
       "</table>\n",
       "</div>"
      ],
      "text/plain": [
       "    index  longitude  latitude  housing_median_age  total_rooms  \\\n",
       "8       8    -122.26     37.84                42.0       2555.0   \n",
       "10     10    -122.26     37.85                52.0       2202.0   \n",
       "11     11    -122.26     37.85                52.0       3503.0   \n",
       "12     12    -122.26     37.85                52.0       2491.0   \n",
       "13     13    -122.26     37.84                52.0        696.0   \n",
       "\n",
       "    total_bedrooms  population  households  median_income  median_house_value  \\\n",
       "8            665.0      1206.0       595.0         2.0804            226700.0   \n",
       "10           434.0       910.0       402.0         3.2031            281500.0   \n",
       "11           752.0      1504.0       734.0         3.2705            241800.0   \n",
       "12           474.0      1098.0       468.0         3.0750            213500.0   \n",
       "13           191.0       345.0       174.0         2.6736            191300.0   \n",
       "\n",
       "   ocean_proximity         id  \n",
       "8         NEAR BAY -122222.16  \n",
       "10        NEAR BAY -122222.15  \n",
       "11        NEAR BAY -122222.15  \n",
       "12        NEAR BAY -122222.15  \n",
       "13        NEAR BAY -122222.16  "
      ]
     },
     "execution_count": 18,
     "metadata": {},
     "output_type": "execute_result"
    }
   ],
   "source": [
    "test_set.head()"
   ]
  },
  {
   "cell_type": "code",
   "execution_count": 19,
   "metadata": {},
   "outputs": [],
   "source": [
    "from sklearn.model_selection import train_test_split\n",
    "train_set,test_set=train_test_split(housing,test_size=0.2,random_state=42)"
   ]
  },
  {
   "cell_type": "markdown",
   "metadata": {},
   "source": [
    "the **train_test_split()** (Scikit) has some additional features. First, there is a random_state parameter that allows us to set the random generator seed. Second, we can pass it multiple datasets with an identical number of rows, and it will spilt them on the same indices (this is very useful if we have separate Dataframe for labels."
   ]
  },
  {
   "cell_type": "code",
   "execution_count": 20,
   "metadata": {},
   "outputs": [
    {
     "data": {
      "text/html": [
       "<div>\n",
       "<style scoped>\n",
       "    .dataframe tbody tr th:only-of-type {\n",
       "        vertical-align: middle;\n",
       "    }\n",
       "\n",
       "    .dataframe tbody tr th {\n",
       "        vertical-align: top;\n",
       "    }\n",
       "\n",
       "    .dataframe thead th {\n",
       "        text-align: right;\n",
       "    }\n",
       "</style>\n",
       "<table border=\"1\" class=\"dataframe\">\n",
       "  <thead>\n",
       "    <tr style=\"text-align: right;\">\n",
       "      <th></th>\n",
       "      <th>longitude</th>\n",
       "      <th>latitude</th>\n",
       "      <th>housing_median_age</th>\n",
       "      <th>total_rooms</th>\n",
       "      <th>total_bedrooms</th>\n",
       "      <th>population</th>\n",
       "      <th>households</th>\n",
       "      <th>median_income</th>\n",
       "      <th>median_house_value</th>\n",
       "      <th>ocean_proximity</th>\n",
       "    </tr>\n",
       "  </thead>\n",
       "  <tbody>\n",
       "    <tr>\n",
       "      <td>20046</td>\n",
       "      <td>-119.01</td>\n",
       "      <td>36.06</td>\n",
       "      <td>25.0</td>\n",
       "      <td>1505.0</td>\n",
       "      <td>NaN</td>\n",
       "      <td>1392.0</td>\n",
       "      <td>359.0</td>\n",
       "      <td>1.6812</td>\n",
       "      <td>47700.0</td>\n",
       "      <td>INLAND</td>\n",
       "    </tr>\n",
       "    <tr>\n",
       "      <td>3024</td>\n",
       "      <td>-119.46</td>\n",
       "      <td>35.14</td>\n",
       "      <td>30.0</td>\n",
       "      <td>2943.0</td>\n",
       "      <td>NaN</td>\n",
       "      <td>1565.0</td>\n",
       "      <td>584.0</td>\n",
       "      <td>2.5313</td>\n",
       "      <td>45800.0</td>\n",
       "      <td>INLAND</td>\n",
       "    </tr>\n",
       "    <tr>\n",
       "      <td>15663</td>\n",
       "      <td>-122.44</td>\n",
       "      <td>37.80</td>\n",
       "      <td>52.0</td>\n",
       "      <td>3830.0</td>\n",
       "      <td>NaN</td>\n",
       "      <td>1310.0</td>\n",
       "      <td>963.0</td>\n",
       "      <td>3.4801</td>\n",
       "      <td>500001.0</td>\n",
       "      <td>NEAR BAY</td>\n",
       "    </tr>\n",
       "    <tr>\n",
       "      <td>20484</td>\n",
       "      <td>-118.72</td>\n",
       "      <td>34.28</td>\n",
       "      <td>17.0</td>\n",
       "      <td>3051.0</td>\n",
       "      <td>NaN</td>\n",
       "      <td>1705.0</td>\n",
       "      <td>495.0</td>\n",
       "      <td>5.7376</td>\n",
       "      <td>218600.0</td>\n",
       "      <td>&lt;1H OCEAN</td>\n",
       "    </tr>\n",
       "    <tr>\n",
       "      <td>9814</td>\n",
       "      <td>-121.93</td>\n",
       "      <td>36.62</td>\n",
       "      <td>34.0</td>\n",
       "      <td>2351.0</td>\n",
       "      <td>NaN</td>\n",
       "      <td>1063.0</td>\n",
       "      <td>428.0</td>\n",
       "      <td>3.7250</td>\n",
       "      <td>278000.0</td>\n",
       "      <td>NEAR OCEAN</td>\n",
       "    </tr>\n",
       "  </tbody>\n",
       "</table>\n",
       "</div>"
      ],
      "text/plain": [
       "       longitude  latitude  housing_median_age  total_rooms  total_bedrooms  \\\n",
       "20046    -119.01     36.06                25.0       1505.0             NaN   \n",
       "3024     -119.46     35.14                30.0       2943.0             NaN   \n",
       "15663    -122.44     37.80                52.0       3830.0             NaN   \n",
       "20484    -118.72     34.28                17.0       3051.0             NaN   \n",
       "9814     -121.93     36.62                34.0       2351.0             NaN   \n",
       "\n",
       "       population  households  median_income  median_house_value  \\\n",
       "20046      1392.0       359.0         1.6812             47700.0   \n",
       "3024       1565.0       584.0         2.5313             45800.0   \n",
       "15663      1310.0       963.0         3.4801            500001.0   \n",
       "20484      1705.0       495.0         5.7376            218600.0   \n",
       "9814       1063.0       428.0         3.7250            278000.0   \n",
       "\n",
       "      ocean_proximity  \n",
       "20046          INLAND  \n",
       "3024           INLAND  \n",
       "15663        NEAR BAY  \n",
       "20484       <1H OCEAN  \n",
       "9814       NEAR OCEAN  "
      ]
     },
     "execution_count": 20,
     "metadata": {},
     "output_type": "execute_result"
    }
   ],
   "source": [
    "test_set.head()"
   ]
  },
  {
   "cell_type": "code",
   "execution_count": 21,
   "metadata": {},
   "outputs": [
    {
     "data": {
      "text/plain": [
       "<matplotlib.axes._subplots.AxesSubplot at 0x7f09d5a3f950>"
      ]
     },
     "execution_count": 21,
     "metadata": {},
     "output_type": "execute_result"
    },
    {
     "data": {
      "image/png": "[encoded data removed]",
      "text/plain": [
       "<Figure size 432x288 with 1 Axes>"
      ]
     },
     "metadata": {
      "needs_background": "light"
     },
     "output_type": "display_data"
    }
   ],
   "source": [
    "housing[\"median_income\"].hist()"
   ]
  },
  {
   "cell_type": "code",
   "execution_count": 22,
   "metadata": {},
   "outputs": [],
   "source": [
    "housing[\"income_cat\"]=pd.cut(housing[\"median_income\"],\n",
    "                             bins=[0.,1.5,3.0,4.5,6., np.inf],\n",
    "                             labels=[1,2,3,4,5])"
   ]
  },
  {
   "cell_type": "markdown",
   "metadata": {},
   "source": [
    "**pd.cut()** - (Pandas) Divides bin value into discrete intervals. This function is also useful for going from continuous variable to a categorical variable.\n",
    "\n",
    "**np.inf** - (NumPy) IEEE 754 floating point representation of positive infinity"
   ]
  },
  {
   "cell_type": "code",
   "execution_count": 23,
   "metadata": {},
   "outputs": [
    {
     "data": {
      "text/plain": [
       "3    7236\n",
       "2    6581\n",
       "4    3639\n",
       "5    2362\n",
       "1     822\n",
       "Name: income_cat, dtype: int64"
      ]
     },
     "execution_count": 23,
     "metadata": {},
     "output_type": "execute_result"
    }
   ],
   "source": [
    "housing[\"income_cat\"].value_counts()"
   ]
  },
  {
   "cell_type": "code",
   "execution_count": 24,
   "metadata": {},
   "outputs": [
    {
     "data": {
      "text/plain": [
       "<matplotlib.axes._subplots.AxesSubplot at 0x7f09cb236510>"
      ]
     },
     "execution_count": 24,
     "metadata": {},
     "output_type": "execute_result"
    },
    {
     "data": {
      "image/png": "[encoded data removed]",
      "text/plain": [
       "<Figure size 432x288 with 1 Axes>"
      ]
     },
     "metadata": {
      "needs_background": "light"
     },
     "output_type": "display_data"
    }
   ],
   "source": [
    "housing[\"income_cat\"].hist()"
   ]
  },
  {
   "cell_type": "markdown",
   "metadata": {},
   "source": [
    "**Stratified Sampling** - The population is divided into homogeneous subgroups called strata, and the right number of instances are sampled from each stratum to guarantee that the test set is representative of the overall population."
   ]
  },
  {
   "cell_type": "code",
   "execution_count": 25,
   "metadata": {},
   "outputs": [],
   "source": [
    "from sklearn.model_selection import StratifiedShuffleSplit\n",
    "\n",
    "split=StratifiedShuffleSplit(n_splits=1,test_size=0.2,random_state=42)\n",
    "for train_index,test_index in split.split(housing,housing[\"income_cat\"]):\n",
    "    strat_train_set=housing.loc[train_index]\n",
    "    strat_test_set=housing.loc[test_index]"
   ]
  },
  {
   "cell_type": "markdown",
   "metadata": {},
   "source": [
    "**StratifiedShuffleSplit** (scikit) cross-validation object is a merge of StratifiedKFold and ShuffleSplit, which returns stratified randomized folds. The folds are made by preserving the percentage of samples for each class. **n_splits** is the number of re shuffling and splitting iterations."
   ]
  },
  {
   "cell_type": "code",
   "execution_count": 26,
   "metadata": {},
   "outputs": [
    {
     "data": {
      "text/plain": [
       "3    0.350533\n",
       "2    0.318798\n",
       "4    0.176357\n",
       "5    0.114583\n",
       "1    0.039729\n",
       "Name: income_cat, dtype: float64"
      ]
     },
     "execution_count": 26,
     "metadata": {},
     "output_type": "execute_result"
    }
   ],
   "source": [
    "strat_test_set[\"income_cat\"].value_counts() / len(strat_test_set)"
   ]
  },
  {
   "cell_type": "code",
   "execution_count": 27,
   "metadata": {},
   "outputs": [
    {
     "data": {
      "text/plain": [
       "3    0.350581\n",
       "2    0.318847\n",
       "4    0.176308\n",
       "5    0.114438\n",
       "1    0.039826\n",
       "Name: income_cat, dtype: float64"
      ]
     },
     "execution_count": 27,
     "metadata": {},
     "output_type": "execute_result"
    }
   ],
   "source": [
    "housing[\"income_cat\"].value_counts() / len(housing)"
   ]
  },
  {
   "cell_type": "code",
   "execution_count": 28,
   "metadata": {},
   "outputs": [],
   "source": [
    "def income_cat_proportions(data):\n",
    "    return data[\"income_cat\"].value_counts() / len(data)\n",
    "\n",
    "train_set,test_set=train_test_split(housing,test_size=0.2,random_state=42)\n",
    "\n",
    "compare_props=pd.DataFrame({\n",
    "    \"Overall\": income_cat_proportions(housing),\n",
    "    \"Stratified\" : income_cat_proportions(strat_test_set),\n",
    "    \"Random\": income_cat_proportions(test_set),\n",
    "}).sort_index()\n",
    "compare_props[\"Rand. %error\"]=100 * compare_props[\"Random\"] / compare_props[\"Overall\"] - 100\n",
    "compare_props[\"Strat. %error\"]=100 * compare_props[\"Stratified\"] / compare_props[\"Overall\"] - 100"
   ]
  },
  {
   "cell_type": "code",
   "execution_count": 29,
   "metadata": {
    "scrolled": true
   },
   "outputs": [
    {
     "data": {
      "text/html": [
       "<div>\n",
       "<style scoped>\n",
       "    .dataframe tbody tr th:only-of-type {\n",
       "        vertical-align: middle;\n",
       "    }\n",
       "\n",
       "    .dataframe tbody tr th {\n",
       "        vertical-align: top;\n",
       "    }\n",
       "\n",
       "    .dataframe thead th {\n",
       "        text-align: right;\n",
       "    }\n",
       "</style>\n",
       "<table border=\"1\" class=\"dataframe\">\n",
       "  <thead>\n",
       "    <tr style=\"text-align: right;\">\n",
       "      <th></th>\n",
       "      <th>Overall</th>\n",
       "      <th>Stratified</th>\n",
       "      <th>Random</th>\n",
       "      <th>Rand. %error</th>\n",
       "      <th>Strat. %error</th>\n",
       "    </tr>\n",
       "  </thead>\n",
       "  <tbody>\n",
       "    <tr>\n",
       "      <td>1</td>\n",
       "      <td>0.039826</td>\n",
       "      <td>0.039729</td>\n",
       "      <td>0.040213</td>\n",
       "      <td>0.973236</td>\n",
       "      <td>-0.243309</td>\n",
       "    </tr>\n",
       "    <tr>\n",
       "      <td>2</td>\n",
       "      <td>0.318847</td>\n",
       "      <td>0.318798</td>\n",
       "      <td>0.324370</td>\n",
       "      <td>1.732260</td>\n",
       "      <td>-0.015195</td>\n",
       "    </tr>\n",
       "    <tr>\n",
       "      <td>3</td>\n",
       "      <td>0.350581</td>\n",
       "      <td>0.350533</td>\n",
       "      <td>0.358527</td>\n",
       "      <td>2.266446</td>\n",
       "      <td>-0.013820</td>\n",
       "    </tr>\n",
       "    <tr>\n",
       "      <td>4</td>\n",
       "      <td>0.176308</td>\n",
       "      <td>0.176357</td>\n",
       "      <td>0.167393</td>\n",
       "      <td>-5.056334</td>\n",
       "      <td>0.027480</td>\n",
       "    </tr>\n",
       "    <tr>\n",
       "      <td>5</td>\n",
       "      <td>0.114438</td>\n",
       "      <td>0.114583</td>\n",
       "      <td>0.109496</td>\n",
       "      <td>-4.318374</td>\n",
       "      <td>0.127011</td>\n",
       "    </tr>\n",
       "  </tbody>\n",
       "</table>\n",
       "</div>"
      ],
      "text/plain": [
       "    Overall  Stratified    Random  Rand. %error  Strat. %error\n",
       "1  0.039826    0.039729  0.040213      0.973236      -0.243309\n",
       "2  0.318847    0.318798  0.324370      1.732260      -0.015195\n",
       "3  0.350581    0.350533  0.358527      2.266446      -0.013820\n",
       "4  0.176308    0.176357  0.167393     -5.056334       0.027480\n",
       "5  0.114438    0.114583  0.109496     -4.318374       0.127011"
      ]
     },
     "execution_count": 29,
     "metadata": {},
     "output_type": "execute_result"
    }
   ],
   "source": [
    "compare_props"
   ]
  },
  {
   "cell_type": "markdown",
   "metadata": {},
   "source": [
    "As we can see, the test set generated using stratified sampling has income category proportions almost identical to those in the full dataset, whereas the test set generated using purely random sampling is skewed."
   ]
  },
  {
   "cell_type": "markdown",
   "metadata": {},
   "source": [
    "Now we should remove the income_cat attribute so that the data is back to its original state:"
   ]
  },
  {
   "cell_type": "code",
   "execution_count": 30,
   "metadata": {},
   "outputs": [],
   "source": [
    "for set_ in (strat_train_set,strat_test_set):\n",
    "    set_.drop(\"income_cat\",axis=1,inplace=True)"
   ]
  },
  {
   "cell_type": "markdown",
   "metadata": {},
   "source": [
    "# Data Visualization"
   ]
  },
  {
   "cell_type": "markdown",
   "metadata": {},
   "source": [
    "Let's create a copy so that we can play without harming the training set:"
   ]
  },
  {
   "cell_type": "code",
   "execution_count": 31,
   "metadata": {},
   "outputs": [],
   "source": [
    "housing= strat_train_set.copy()"
   ]
  },
  {
   "cell_type": "code",
   "execution_count": 32,
   "metadata": {},
   "outputs": [
    {
     "data": {
      "text/plain": [
       "<matplotlib.axes._subplots.AxesSubplot at 0x7f09cb0e9f50>"
      ]
     },
     "execution_count": 32,
     "metadata": {},
     "output_type": "execute_result"
    },
    {
     "data": {
      "image/png": "[encoded data removed]",
      "text/plain": [
       "<Figure size 432x288 with 1 Axes>"
      ]
     },
     "metadata": {
      "needs_background": "light"
     },
     "output_type": "display_data"
    }
   ],
   "source": [
    "housing.plot(kind=\"scatter\",x=\"longitude\",y=\"latitude\")"
   ]
  },
  {
   "cell_type": "markdown",
   "metadata": {},
   "source": [
    "We see that it is hard to analyse any particular pattern. Setting the **alpha** option to 0.1 makes it much easier to visualize the places where there is high density of data points."
   ]
  },
  {
   "cell_type": "code",
   "execution_count": 33,
   "metadata": {},
   "outputs": [
    {
     "name": "stdout",
     "output_type": "stream",
     "text": [
      "Saving figure visualization_plot\n"
     ]
    },
    {
     "data": {
      "image/png": "[encoded data removed]",
      "text/plain": [
       "<Figure size 432x288 with 1 Axes>"
      ]
     },
     "metadata": {
      "needs_background": "light"
     },
     "output_type": "display_data"
    }
   ],
   "source": [
    "housing.plot(kind=\"scatter\",x=\"longitude\",y=\"latitude\",alpha=0.1)\n",
    "save_fig(\"visualization_plot\")"
   ]
  },
  {
   "cell_type": "markdown",
   "metadata": {},
   "source": [
    "Now let's look at the housing prices. The radius of each circle represents the district's population and the color represents the price. We will use a predefined color map called **jet**, which ranges from blue (low prices) to red (high prices)"
   ]
  },
  {
   "cell_type": "code",
   "execution_count": 34,
   "metadata": {},
   "outputs": [
    {
     "name": "stdout",
     "output_type": "stream",
     "text": [
      "Saving figure housing_prices_scatterplot\n"
     ]
    },
    {
     "data": {
      "image/png": "[encoded data removed]",
      "text/plain": [
       "<Figure size 720x504 with 2 Axes>"
      ]
     },
     "metadata": {
      "needs_background": "light"
     },
     "output_type": "display_data"
    }
   ],
   "source": [
    "housing.plot(kind=\"scatter\",x=\"longitude\",y=\"latitude\",alpha=0.4,\n",
    "            s=housing[\"population\"]/100,label=\"population\",figsize=(10,7),\n",
    "            c=\"median_house_value\",cmap=plt.get_cmap(\"jet\"),colorbar=True,\n",
    "            sharex=False)\n",
    "plt.legend()\n",
    "save_fig(\"housing_prices_scatterplot\")"
   ]
  },
  {
   "cell_type": "markdown",
   "metadata": {},
   "source": [
    "**kind** : str object type \n",
    "\n",
    "- ‘line’ : line plot (default)\n",
    "- ‘bar’ : vertical bar plot\n",
    "- ‘barh’ : horizontal bar plot\n",
    "- ‘hist’ : histogram\n",
    "- ‘box’ : boxplot\n",
    "- ‘kde’ : Kernel Density Estimation plot\n",
    "- ‘density’ : same as ‘kde’\n",
    "- ‘area’ : area plot\n",
    "- ‘pie’ : pie plot\n",
    "- ‘scatter’ : scatter plot\n",
    "- ‘hexbin’ : hexbin plot\n",
    "\n",
    "**figsize** : (Pandas) a tuple which is used to change the size of the plot.\n",
    "\n",
    "**get_cmap** : (Matplotlib) has number of in built colormaps.\n",
    "\n",
    "**sharex=False** fixes a display bug (the x-axis values and legend were not displayed)."
   ]
  },
  {
   "cell_type": "markdown",
   "metadata": {},
   "source": [
    "### Correlations"
   ]
  },
  {
   "cell_type": "code",
   "execution_count": 35,
   "metadata": {},
   "outputs": [],
   "source": [
    "corr_matrix=housing.corr()"
   ]
  },
  {
   "cell_type": "code",
   "execution_count": 36,
   "metadata": {},
   "outputs": [
    {
     "data": {
      "text/plain": [
       "median_house_value    1.000000\n",
       "median_income         0.687160\n",
       "total_rooms           0.135097\n",
       "housing_median_age    0.114110\n",
       "households            0.064506\n",
       "total_bedrooms        0.047689\n",
       "population           -0.026920\n",
       "longitude            -0.047432\n",
       "latitude             -0.142724\n",
       "Name: median_house_value, dtype: float64"
      ]
     },
     "execution_count": 36,
     "metadata": {},
     "output_type": "execute_result"
    }
   ],
   "source": [
    "corr_matrix[\"median_house_value\"].sort_values(ascending=False)"
   ]
  },
  {
   "cell_type": "markdown",
   "metadata": {},
   "source": [
    "The correlation coefficient ranges from -1 to 1. When it is close to 1, it means strong positive correlation and when it is close to -1, it means strong negative correlation. Note that the correlation coefficient only measures linear correlations (if x goes up, then y generally goes up or down). It may completely miss out on non-linear relationships (if x is close to 0, then y generally goes up)  \n",
    "\n",
    "Another way to check for correlation between attributes is to use the pandas **scatter_matrix()** function, which plots every numerical attribute against other numerical attribute"
   ]
  },
  {
   "cell_type": "code",
   "execution_count": 37,
   "metadata": {},
   "outputs": [
    {
     "name": "stdout",
     "output_type": "stream",
     "text": [
      "Saving figure scatter_plot_matrix\n"
     ]
    },
    {
     "data": {
      "image/png": "[encoded data removed]",
      "text/plain": [
       "<Figure size 864x576 with 16 Axes>"
      ]
     },
     "metadata": {
      "needs_background": "light"
     },
     "output_type": "display_data"
    }
   ],
   "source": [
    "from pandas.plotting import scatter_matrix\n",
    "attributes=[\"median_house_value\",\"median_income\",\"total_rooms\",\n",
    "            \"housing_median_age\"]\n",
    "scatter_matrix(housing[attributes],figsize=(12,8))\n",
    "save_fig(\"scatter_plot_matrix\")"
   ]
  },
  {
   "cell_type": "markdown",
   "metadata": {},
   "source": [
    "The most promising attribute to predict the median house value is the median income"
   ]
  },
  {
   "cell_type": "code",
   "execution_count": 38,
   "metadata": {},
   "outputs": [
    {
     "name": "stdout",
     "output_type": "stream",
     "text": [
      "Saving figure income_vs_house_value_scatterplot\n"
     ]
    },
    {
     "data": {
      "image/png": "[encoded data removed]",
      "text/plain": [
       "<Figure size 432x288 with 1 Axes>"
      ]
     },
     "metadata": {
      "needs_background": "light"
     },
     "output_type": "display_data"
    }
   ],
   "source": [
    "housing.plot(kind=\"scatter\",x=\"median_income\",y=\"median_house_value\",\n",
    "            alpha=0.1)\n",
    "save_fig(\"income_vs_house_value_scatterplot\")"
   ]
  },
  {
   "cell_type": "markdown",
   "metadata": {},
   "source": [
    "This plot reveals a few things. First, the correlation is indeed very strong. We can clearly see the upward trend, and the points are not too dispersed. Second, the price cap that we noticed earlier is clearly visible as a horizontal line at 500,00. But this plot reveals other less obvious straight lines: a horizontal line around 450,000, another around 350,000, perhaps another at 280,000, and a few more below that. We may want to try removing the corresponding districts to prevent the algorithm from learning to reproduce these data quirks. "
   ]
  },
  {
   "cell_type": "code",
   "execution_count": 39,
   "metadata": {},
   "outputs": [],
   "source": [
    "housing[\"rooms_per_household\"]=housing[\"total_rooms\"]/housing[\"households\"]\n",
    "housing[\"bedrooms_per_room\"]=housing[\"total_bedrooms\"]/housing[\"total_rooms\"]\n",
    "housing[\"population_per_household\"]=housing[\"population\"]/housing[\"households\"]"
   ]
  },
  {
   "cell_type": "code",
   "execution_count": 40,
   "metadata": {},
   "outputs": [
    {
     "data": {
      "text/plain": [
       "median_house_value          1.000000\n",
       "median_income               0.687160\n",
       "rooms_per_household         0.146285\n",
       "total_rooms                 0.135097\n",
       "housing_median_age          0.114110\n",
       "households                  0.064506\n",
       "total_bedrooms              0.047689\n",
       "population_per_household   -0.021985\n",
       "population                 -0.026920\n",
       "longitude                  -0.047432\n",
       "latitude                   -0.142724\n",
       "bedrooms_per_room          -0.259984\n",
       "Name: median_house_value, dtype: float64"
      ]
     },
     "execution_count": 40,
     "metadata": {},
     "output_type": "execute_result"
    }
   ],
   "source": [
    "corr_matrix=housing.corr()\n",
    "corr_matrix[\"median_house_value\"].sort_values(ascending=False)"
   ]
  },
  {
   "cell_type": "code",
   "execution_count": 41,
   "metadata": {},
   "outputs": [
    {
     "data": {
      "text/html": [
       "<div>\n",
       "<style scoped>\n",
       "    .dataframe tbody tr th:only-of-type {\n",
       "        vertical-align: middle;\n",
       "    }\n",
       "\n",
       "    .dataframe tbody tr th {\n",
       "        vertical-align: top;\n",
       "    }\n",
       "\n",
       "    .dataframe thead th {\n",
       "        text-align: right;\n",
       "    }\n",
       "</style>\n",
       "<table border=\"1\" class=\"dataframe\">\n",
       "  <thead>\n",
       "    <tr style=\"text-align: right;\">\n",
       "      <th></th>\n",
       "      <th>longitude</th>\n",
       "      <th>latitude</th>\n",
       "      <th>housing_median_age</th>\n",
       "      <th>total_rooms</th>\n",
       "      <th>total_bedrooms</th>\n",
       "      <th>population</th>\n",
       "      <th>households</th>\n",
       "      <th>median_income</th>\n",
       "      <th>median_house_value</th>\n",
       "      <th>rooms_per_household</th>\n",
       "      <th>bedrooms_per_room</th>\n",
       "      <th>population_per_household</th>\n",
       "    </tr>\n",
       "  </thead>\n",
       "  <tbody>\n",
       "    <tr>\n",
       "      <td>count</td>\n",
       "      <td>16512.000000</td>\n",
       "      <td>16512.000000</td>\n",
       "      <td>16512.000000</td>\n",
       "      <td>16512.000000</td>\n",
       "      <td>16354.000000</td>\n",
       "      <td>16512.000000</td>\n",
       "      <td>16512.000000</td>\n",
       "      <td>16512.000000</td>\n",
       "      <td>16512.000000</td>\n",
       "      <td>16512.000000</td>\n",
       "      <td>16354.000000</td>\n",
       "      <td>16512.000000</td>\n",
       "    </tr>\n",
       "    <tr>\n",
       "      <td>mean</td>\n",
       "      <td>-119.575834</td>\n",
       "      <td>35.639577</td>\n",
       "      <td>28.653101</td>\n",
       "      <td>2622.728319</td>\n",
       "      <td>534.973890</td>\n",
       "      <td>1419.790819</td>\n",
       "      <td>497.060380</td>\n",
       "      <td>3.875589</td>\n",
       "      <td>206990.920724</td>\n",
       "      <td>5.440341</td>\n",
       "      <td>0.212878</td>\n",
       "      <td>3.096437</td>\n",
       "    </tr>\n",
       "    <tr>\n",
       "      <td>std</td>\n",
       "      <td>2.001860</td>\n",
       "      <td>2.138058</td>\n",
       "      <td>12.574726</td>\n",
       "      <td>2138.458419</td>\n",
       "      <td>412.699041</td>\n",
       "      <td>1115.686241</td>\n",
       "      <td>375.720845</td>\n",
       "      <td>1.904950</td>\n",
       "      <td>115703.014830</td>\n",
       "      <td>2.611712</td>\n",
       "      <td>0.057379</td>\n",
       "      <td>11.584826</td>\n",
       "    </tr>\n",
       "    <tr>\n",
       "      <td>min</td>\n",
       "      <td>-124.350000</td>\n",
       "      <td>32.540000</td>\n",
       "      <td>1.000000</td>\n",
       "      <td>6.000000</td>\n",
       "      <td>2.000000</td>\n",
       "      <td>3.000000</td>\n",
       "      <td>2.000000</td>\n",
       "      <td>0.499900</td>\n",
       "      <td>14999.000000</td>\n",
       "      <td>1.130435</td>\n",
       "      <td>0.100000</td>\n",
       "      <td>0.692308</td>\n",
       "    </tr>\n",
       "    <tr>\n",
       "      <td>25%</td>\n",
       "      <td>-121.800000</td>\n",
       "      <td>33.940000</td>\n",
       "      <td>18.000000</td>\n",
       "      <td>1443.000000</td>\n",
       "      <td>295.000000</td>\n",
       "      <td>784.000000</td>\n",
       "      <td>279.000000</td>\n",
       "      <td>2.566775</td>\n",
       "      <td>119800.000000</td>\n",
       "      <td>4.442040</td>\n",
       "      <td>0.175304</td>\n",
       "      <td>2.431287</td>\n",
       "    </tr>\n",
       "    <tr>\n",
       "      <td>50%</td>\n",
       "      <td>-118.510000</td>\n",
       "      <td>34.260000</td>\n",
       "      <td>29.000000</td>\n",
       "      <td>2119.500000</td>\n",
       "      <td>433.000000</td>\n",
       "      <td>1164.000000</td>\n",
       "      <td>408.000000</td>\n",
       "      <td>3.540900</td>\n",
       "      <td>179500.000000</td>\n",
       "      <td>5.232284</td>\n",
       "      <td>0.203031</td>\n",
       "      <td>2.817653</td>\n",
       "    </tr>\n",
       "    <tr>\n",
       "      <td>75%</td>\n",
       "      <td>-118.010000</td>\n",
       "      <td>37.720000</td>\n",
       "      <td>37.000000</td>\n",
       "      <td>3141.000000</td>\n",
       "      <td>644.000000</td>\n",
       "      <td>1719.250000</td>\n",
       "      <td>602.000000</td>\n",
       "      <td>4.744475</td>\n",
       "      <td>263900.000000</td>\n",
       "      <td>6.056361</td>\n",
       "      <td>0.239831</td>\n",
       "      <td>3.281420</td>\n",
       "    </tr>\n",
       "    <tr>\n",
       "      <td>max</td>\n",
       "      <td>-114.310000</td>\n",
       "      <td>41.950000</td>\n",
       "      <td>52.000000</td>\n",
       "      <td>39320.000000</td>\n",
       "      <td>6210.000000</td>\n",
       "      <td>35682.000000</td>\n",
       "      <td>5358.000000</td>\n",
       "      <td>15.000100</td>\n",
       "      <td>500001.000000</td>\n",
       "      <td>141.909091</td>\n",
       "      <td>1.000000</td>\n",
       "      <td>1243.333333</td>\n",
       "    </tr>\n",
       "  </tbody>\n",
       "</table>\n",
       "</div>"
      ],
      "text/plain": [
       "          longitude      latitude  housing_median_age   total_rooms  \\\n",
       "count  16512.000000  16512.000000        16512.000000  16512.000000   \n",
       "mean    -119.575834     35.639577           28.653101   2622.728319   \n",
       "std        2.001860      2.138058           12.574726   2138.458419   \n",
       "min     -124.350000     32.540000            1.000000      6.000000   \n",
       "25%     -121.800000     33.940000           18.000000   1443.000000   \n",
       "50%     -118.510000     34.260000           29.000000   2119.500000   \n",
       "75%     -118.010000     37.720000           37.000000   3141.000000   \n",
       "max     -114.310000     41.950000           52.000000  39320.000000   \n",
       "\n",
       "       total_bedrooms    population    households  median_income  \\\n",
       "count    16354.000000  16512.000000  16512.000000   16512.000000   \n",
       "mean       534.973890   1419.790819    497.060380       3.875589   \n",
       "std        412.699041   1115.686241    375.720845       1.904950   \n",
       "min          2.000000      3.000000      2.000000       0.499900   \n",
       "25%        295.000000    784.000000    279.000000       2.566775   \n",
       "50%        433.000000   1164.000000    408.000000       3.540900   \n",
       "75%        644.000000   1719.250000    602.000000       4.744475   \n",
       "max       6210.000000  35682.000000   5358.000000      15.000100   \n",
       "\n",
       "       median_house_value  rooms_per_household  bedrooms_per_room  \\\n",
       "count        16512.000000         16512.000000       16354.000000   \n",
       "mean        206990.920724             5.440341           0.212878   \n",
       "std         115703.014830             2.611712           0.057379   \n",
       "min          14999.000000             1.130435           0.100000   \n",
       "25%         119800.000000             4.442040           0.175304   \n",
       "50%         179500.000000             5.232284           0.203031   \n",
       "75%         263900.000000             6.056361           0.239831   \n",
       "max         500001.000000           141.909091           1.000000   \n",
       "\n",
       "       population_per_household  \n",
       "count              16512.000000  \n",
       "mean                   3.096437  \n",
       "std                   11.584826  \n",
       "min                    0.692308  \n",
       "25%                    2.431287  \n",
       "50%                    2.817653  \n",
       "75%                    3.281420  \n",
       "max                 1243.333333  "
      ]
     },
     "execution_count": 41,
     "metadata": {},
     "output_type": "execute_result"
    }
   ],
   "source": [
    "housing.describe()"
   ]
  },
  {
   "cell_type": "markdown",
   "metadata": {},
   "source": [
    "# Data preprocessing"
   ]
  },
  {
   "cell_type": "markdown",
   "metadata": {},
   "source": [
    "Let's revert to a clean training set (by copying strat_train_set once again). Let's also separate the predictors and the labels, since we don't want to apply the same transformations to the predictors and the target values."
   ]
  },
  {
   "cell_type": "code",
   "execution_count": 42,
   "metadata": {},
   "outputs": [],
   "source": [
    "# drop labels for training set\n",
    "housing= strat_train_set.drop(\"median_house_value\",axis=1)\n",
    "housing_labels=strat_train_set[\"median_house_value\"].copy()"
   ]
  },
  {
   "cell_type": "code",
   "execution_count": 43,
   "metadata": {
    "scrolled": true
   },
   "outputs": [
    {
     "data": {
      "text/html": [
       "<div>\n",
       "<style scoped>\n",
       "    .dataframe tbody tr th:only-of-type {\n",
       "        vertical-align: middle;\n",
       "    }\n",
       "\n",
       "    .dataframe tbody tr th {\n",
       "        vertical-align: top;\n",
       "    }\n",
       "\n",
       "    .dataframe thead th {\n",
       "        text-align: right;\n",
       "    }\n",
       "</style>\n",
       "<table border=\"1\" class=\"dataframe\">\n",
       "  <thead>\n",
       "    <tr style=\"text-align: right;\">\n",
       "      <th></th>\n",
       "      <th>longitude</th>\n",
       "      <th>latitude</th>\n",
       "      <th>housing_median_age</th>\n",
       "      <th>total_rooms</th>\n",
       "      <th>total_bedrooms</th>\n",
       "      <th>population</th>\n",
       "      <th>households</th>\n",
       "      <th>median_income</th>\n",
       "      <th>ocean_proximity</th>\n",
       "    </tr>\n",
       "  </thead>\n",
       "  <tbody>\n",
       "    <tr>\n",
       "      <td>4629</td>\n",
       "      <td>-118.30</td>\n",
       "      <td>34.07</td>\n",
       "      <td>18.0</td>\n",
       "      <td>3759.0</td>\n",
       "      <td>NaN</td>\n",
       "      <td>3296.0</td>\n",
       "      <td>1462.0</td>\n",
       "      <td>2.2708</td>\n",
       "      <td>&lt;1H OCEAN</td>\n",
       "    </tr>\n",
       "    <tr>\n",
       "      <td>6068</td>\n",
       "      <td>-117.86</td>\n",
       "      <td>34.01</td>\n",
       "      <td>16.0</td>\n",
       "      <td>4632.0</td>\n",
       "      <td>NaN</td>\n",
       "      <td>3038.0</td>\n",
       "      <td>727.0</td>\n",
       "      <td>5.1762</td>\n",
       "      <td>&lt;1H OCEAN</td>\n",
       "    </tr>\n",
       "    <tr>\n",
       "      <td>17923</td>\n",
       "      <td>-121.97</td>\n",
       "      <td>37.35</td>\n",
       "      <td>30.0</td>\n",
       "      <td>1955.0</td>\n",
       "      <td>NaN</td>\n",
       "      <td>999.0</td>\n",
       "      <td>386.0</td>\n",
       "      <td>4.6328</td>\n",
       "      <td>&lt;1H OCEAN</td>\n",
       "    </tr>\n",
       "    <tr>\n",
       "      <td>13656</td>\n",
       "      <td>-117.30</td>\n",
       "      <td>34.05</td>\n",
       "      <td>6.0</td>\n",
       "      <td>2155.0</td>\n",
       "      <td>NaN</td>\n",
       "      <td>1039.0</td>\n",
       "      <td>391.0</td>\n",
       "      <td>1.6675</td>\n",
       "      <td>INLAND</td>\n",
       "    </tr>\n",
       "    <tr>\n",
       "      <td>19252</td>\n",
       "      <td>-122.79</td>\n",
       "      <td>38.48</td>\n",
       "      <td>7.0</td>\n",
       "      <td>6837.0</td>\n",
       "      <td>NaN</td>\n",
       "      <td>3468.0</td>\n",
       "      <td>1405.0</td>\n",
       "      <td>3.1662</td>\n",
       "      <td>&lt;1H OCEAN</td>\n",
       "    </tr>\n",
       "  </tbody>\n",
       "</table>\n",
       "</div>"
      ],
      "text/plain": [
       "       longitude  latitude  housing_median_age  total_rooms  total_bedrooms  \\\n",
       "4629     -118.30     34.07                18.0       3759.0             NaN   \n",
       "6068     -117.86     34.01                16.0       4632.0             NaN   \n",
       "17923    -121.97     37.35                30.0       1955.0             NaN   \n",
       "13656    -117.30     34.05                 6.0       2155.0             NaN   \n",
       "19252    -122.79     38.48                 7.0       6837.0             NaN   \n",
       "\n",
       "       population  households  median_income ocean_proximity  \n",
       "4629       3296.0      1462.0         2.2708       <1H OCEAN  \n",
       "6068       3038.0       727.0         5.1762       <1H OCEAN  \n",
       "17923       999.0       386.0         4.6328       <1H OCEAN  \n",
       "13656      1039.0       391.0         1.6675          INLAND  \n",
       "19252      3468.0      1405.0         3.1662       <1H OCEAN  "
      ]
     },
     "execution_count": 43,
     "metadata": {},
     "output_type": "execute_result"
    }
   ],
   "source": [
    "sample_incomplete_rows=housing[housing.isnull().any(axis=1)].head()\n",
    "sample_incomplete_rows"
   ]
  },
  {
   "cell_type": "markdown",
   "metadata": {},
   "source": [
    "The total_bedrooms attribute has some missing values."
   ]
  },
  {
   "cell_type": "code",
   "execution_count": 44,
   "metadata": {},
   "outputs": [
    {
     "data": {
      "text/html": [
       "<div>\n",
       "<style scoped>\n",
       "    .dataframe tbody tr th:only-of-type {\n",
       "        vertical-align: middle;\n",
       "    }\n",
       "\n",
       "    .dataframe tbody tr th {\n",
       "        vertical-align: top;\n",
       "    }\n",
       "\n",
       "    .dataframe thead th {\n",
       "        text-align: right;\n",
       "    }\n",
       "</style>\n",
       "<table border=\"1\" class=\"dataframe\">\n",
       "  <thead>\n",
       "    <tr style=\"text-align: right;\">\n",
       "      <th></th>\n",
       "      <th>longitude</th>\n",
       "      <th>latitude</th>\n",
       "      <th>housing_median_age</th>\n",
       "      <th>total_rooms</th>\n",
       "      <th>total_bedrooms</th>\n",
       "      <th>population</th>\n",
       "      <th>households</th>\n",
       "      <th>median_income</th>\n",
       "      <th>ocean_proximity</th>\n",
       "    </tr>\n",
       "  </thead>\n",
       "  <tbody>\n",
       "  </tbody>\n",
       "</table>\n",
       "</div>"
      ],
      "text/plain": [
       "Empty DataFrame\n",
       "Columns: [longitude, latitude, housing_median_age, total_rooms, total_bedrooms, population, households, median_income, ocean_proximity]\n",
       "Index: []"
      ]
     },
     "execution_count": 44,
     "metadata": {},
     "output_type": "execute_result"
    }
   ],
   "source": [
    "# Option 1 - Get rid of the corresponding districts\n",
    "sample_incomplete_rows.dropna(subset=[\"total_bedrooms\"])"
   ]
  },
  {
   "cell_type": "code",
   "execution_count": 45,
   "metadata": {},
   "outputs": [
    {
     "data": {
      "text/html": [
       "<div>\n",
       "<style scoped>\n",
       "    .dataframe tbody tr th:only-of-type {\n",
       "        vertical-align: middle;\n",
       "    }\n",
       "\n",
       "    .dataframe tbody tr th {\n",
       "        vertical-align: top;\n",
       "    }\n",
       "\n",
       "    .dataframe thead th {\n",
       "        text-align: right;\n",
       "    }\n",
       "</style>\n",
       "<table border=\"1\" class=\"dataframe\">\n",
       "  <thead>\n",
       "    <tr style=\"text-align: right;\">\n",
       "      <th></th>\n",
       "      <th>longitude</th>\n",
       "      <th>latitude</th>\n",
       "      <th>housing_median_age</th>\n",
       "      <th>total_rooms</th>\n",
       "      <th>population</th>\n",
       "      <th>households</th>\n",
       "      <th>median_income</th>\n",
       "      <th>ocean_proximity</th>\n",
       "    </tr>\n",
       "  </thead>\n",
       "  <tbody>\n",
       "    <tr>\n",
       "      <td>4629</td>\n",
       "      <td>-118.30</td>\n",
       "      <td>34.07</td>\n",
       "      <td>18.0</td>\n",
       "      <td>3759.0</td>\n",
       "      <td>3296.0</td>\n",
       "      <td>1462.0</td>\n",
       "      <td>2.2708</td>\n",
       "      <td>&lt;1H OCEAN</td>\n",
       "    </tr>\n",
       "    <tr>\n",
       "      <td>6068</td>\n",
       "      <td>-117.86</td>\n",
       "      <td>34.01</td>\n",
       "      <td>16.0</td>\n",
       "      <td>4632.0</td>\n",
       "      <td>3038.0</td>\n",
       "      <td>727.0</td>\n",
       "      <td>5.1762</td>\n",
       "      <td>&lt;1H OCEAN</td>\n",
       "    </tr>\n",
       "    <tr>\n",
       "      <td>17923</td>\n",
       "      <td>-121.97</td>\n",
       "      <td>37.35</td>\n",
       "      <td>30.0</td>\n",
       "      <td>1955.0</td>\n",
       "      <td>999.0</td>\n",
       "      <td>386.0</td>\n",
       "      <td>4.6328</td>\n",
       "      <td>&lt;1H OCEAN</td>\n",
       "    </tr>\n",
       "    <tr>\n",
       "      <td>13656</td>\n",
       "      <td>-117.30</td>\n",
       "      <td>34.05</td>\n",
       "      <td>6.0</td>\n",
       "      <td>2155.0</td>\n",
       "      <td>1039.0</td>\n",
       "      <td>391.0</td>\n",
       "      <td>1.6675</td>\n",
       "      <td>INLAND</td>\n",
       "    </tr>\n",
       "    <tr>\n",
       "      <td>19252</td>\n",
       "      <td>-122.79</td>\n",
       "      <td>38.48</td>\n",
       "      <td>7.0</td>\n",
       "      <td>6837.0</td>\n",
       "      <td>3468.0</td>\n",
       "      <td>1405.0</td>\n",
       "      <td>3.1662</td>\n",
       "      <td>&lt;1H OCEAN</td>\n",
       "    </tr>\n",
       "  </tbody>\n",
       "</table>\n",
       "</div>"
      ],
      "text/plain": [
       "       longitude  latitude  housing_median_age  total_rooms  population  \\\n",
       "4629     -118.30     34.07                18.0       3759.0      3296.0   \n",
       "6068     -117.86     34.01                16.0       4632.0      3038.0   \n",
       "17923    -121.97     37.35                30.0       1955.0       999.0   \n",
       "13656    -117.30     34.05                 6.0       2155.0      1039.0   \n",
       "19252    -122.79     38.48                 7.0       6837.0      3468.0   \n",
       "\n",
       "       households  median_income ocean_proximity  \n",
       "4629       1462.0         2.2708       <1H OCEAN  \n",
       "6068        727.0         5.1762       <1H OCEAN  \n",
       "17923       386.0         4.6328       <1H OCEAN  \n",
       "13656       391.0         1.6675          INLAND  \n",
       "19252      1405.0         3.1662       <1H OCEAN  "
      ]
     },
     "execution_count": 45,
     "metadata": {},
     "output_type": "execute_result"
    }
   ],
   "source": [
    "# Option 2 - Get rid of the whole attribute\n",
    "sample_incomplete_rows.drop(\"total_bedrooms\",axis=1)"
   ]
  },
  {
   "cell_type": "code",
   "execution_count": 46,
   "metadata": {},
   "outputs": [],
   "source": [
    "# Option 3 - Set the values to some value (zero,mean,median,etc)\n",
    "median=housing[\"total_bedrooms\"].median()\n",
    "sample_incomplete_rows[\"total_bedrooms\"].fillna(median,inplace=True)"
   ]
  },
  {
   "cell_type": "code",
   "execution_count": 47,
   "metadata": {},
   "outputs": [
    {
     "data": {
      "text/html": [
       "<div>\n",
       "<style scoped>\n",
       "    .dataframe tbody tr th:only-of-type {\n",
       "        vertical-align: middle;\n",
       "    }\n",
       "\n",
       "    .dataframe tbody tr th {\n",
       "        vertical-align: top;\n",
       "    }\n",
       "\n",
       "    .dataframe thead th {\n",
       "        text-align: right;\n",
       "    }\n",
       "</style>\n",
       "<table border=\"1\" class=\"dataframe\">\n",
       "  <thead>\n",
       "    <tr style=\"text-align: right;\">\n",
       "      <th></th>\n",
       "      <th>longitude</th>\n",
       "      <th>latitude</th>\n",
       "      <th>housing_median_age</th>\n",
       "      <th>total_rooms</th>\n",
       "      <th>total_bedrooms</th>\n",
       "      <th>population</th>\n",
       "      <th>households</th>\n",
       "      <th>median_income</th>\n",
       "      <th>ocean_proximity</th>\n",
       "    </tr>\n",
       "  </thead>\n",
       "  <tbody>\n",
       "    <tr>\n",
       "      <td>4629</td>\n",
       "      <td>-118.30</td>\n",
       "      <td>34.07</td>\n",
       "      <td>18.0</td>\n",
       "      <td>3759.0</td>\n",
       "      <td>433.0</td>\n",
       "      <td>3296.0</td>\n",
       "      <td>1462.0</td>\n",
       "      <td>2.2708</td>\n",
       "      <td>&lt;1H OCEAN</td>\n",
       "    </tr>\n",
       "    <tr>\n",
       "      <td>6068</td>\n",
       "      <td>-117.86</td>\n",
       "      <td>34.01</td>\n",
       "      <td>16.0</td>\n",
       "      <td>4632.0</td>\n",
       "      <td>433.0</td>\n",
       "      <td>3038.0</td>\n",
       "      <td>727.0</td>\n",
       "      <td>5.1762</td>\n",
       "      <td>&lt;1H OCEAN</td>\n",
       "    </tr>\n",
       "    <tr>\n",
       "      <td>17923</td>\n",
       "      <td>-121.97</td>\n",
       "      <td>37.35</td>\n",
       "      <td>30.0</td>\n",
       "      <td>1955.0</td>\n",
       "      <td>433.0</td>\n",
       "      <td>999.0</td>\n",
       "      <td>386.0</td>\n",
       "      <td>4.6328</td>\n",
       "      <td>&lt;1H OCEAN</td>\n",
       "    </tr>\n",
       "    <tr>\n",
       "      <td>13656</td>\n",
       "      <td>-117.30</td>\n",
       "      <td>34.05</td>\n",
       "      <td>6.0</td>\n",
       "      <td>2155.0</td>\n",
       "      <td>433.0</td>\n",
       "      <td>1039.0</td>\n",
       "      <td>391.0</td>\n",
       "      <td>1.6675</td>\n",
       "      <td>INLAND</td>\n",
       "    </tr>\n",
       "    <tr>\n",
       "      <td>19252</td>\n",
       "      <td>-122.79</td>\n",
       "      <td>38.48</td>\n",
       "      <td>7.0</td>\n",
       "      <td>6837.0</td>\n",
       "      <td>433.0</td>\n",
       "      <td>3468.0</td>\n",
       "      <td>1405.0</td>\n",
       "      <td>3.1662</td>\n",
       "      <td>&lt;1H OCEAN</td>\n",
       "    </tr>\n",
       "  </tbody>\n",
       "</table>\n",
       "</div>"
      ],
      "text/plain": [
       "       longitude  latitude  housing_median_age  total_rooms  total_bedrooms  \\\n",
       "4629     -118.30     34.07                18.0       3759.0           433.0   \n",
       "6068     -117.86     34.01                16.0       4632.0           433.0   \n",
       "17923    -121.97     37.35                30.0       1955.0           433.0   \n",
       "13656    -117.30     34.05                 6.0       2155.0           433.0   \n",
       "19252    -122.79     38.48                 7.0       6837.0           433.0   \n",
       "\n",
       "       population  households  median_income ocean_proximity  \n",
       "4629       3296.0      1462.0         2.2708       <1H OCEAN  \n",
       "6068       3038.0       727.0         5.1762       <1H OCEAN  \n",
       "17923       999.0       386.0         4.6328       <1H OCEAN  \n",
       "13656      1039.0       391.0         1.6675          INLAND  \n",
       "19252      3468.0      1405.0         3.1662       <1H OCEAN  "
      ]
     },
     "execution_count": 47,
     "metadata": {},
     "output_type": "execute_result"
    }
   ],
   "source": [
    "sample_incomplete_rows"
   ]
  },
  {
   "cell_type": "code",
   "execution_count": 48,
   "metadata": {},
   "outputs": [],
   "source": [
    "from sklearn.impute import SimpleImputer\n",
    "imputer=SimpleImputer(strategy=\"median\")"
   ]
  },
  {
   "cell_type": "markdown",
   "metadata": {},
   "source": [
    "Remove the text attribute because median can only be calculated on numerical attributes."
   ]
  },
  {
   "cell_type": "code",
   "execution_count": 49,
   "metadata": {},
   "outputs": [],
   "source": [
    "housing_num=housing.drop(\"ocean_proximity\",axis=1)"
   ]
  },
  {
   "cell_type": "code",
   "execution_count": 50,
   "metadata": {},
   "outputs": [
    {
     "data": {
      "text/plain": [
       "SimpleImputer(add_indicator=False, copy=True, fill_value=None,\n",
       "              missing_values=nan, strategy='median', verbose=0)"
      ]
     },
     "execution_count": 50,
     "metadata": {},
     "output_type": "execute_result"
    }
   ],
   "source": [
    "imputer.fit(housing_num)"
   ]
  },
  {
   "cell_type": "markdown",
   "metadata": {},
   "source": [
    "Any object that can estimate some parameters based on a dataset is called an **estimator** (eg: an imputer is an estimator). The estimation itself is performed by the **fit()** method and it takes only the dataset as the parameter. Any other parameter needed to guide the estimation process is considered a hyperparameter (such as imputer's strategy)"
   ]
  },
  {
   "cell_type": "code",
   "execution_count": 51,
   "metadata": {},
   "outputs": [
    {
     "data": {
      "text/plain": [
       "array([-118.51  ,   34.26  ,   29.    , 2119.5   ,  433.    , 1164.    ,\n",
       "        408.    ,    3.5409])"
      ]
     },
     "execution_count": 51,
     "metadata": {},
     "output_type": "execute_result"
    }
   ],
   "source": [
    "imputer.statistics_"
   ]
  },
  {
   "cell_type": "markdown",
   "metadata": {},
   "source": [
    "All the estimator's hyperparameters are accessible directly via public instance variables (eg: **imputer.strategy**), and all the estimator's learned parameters are acceeible via public instance variables with an underscore suffix (eg: **imputer.statistics_**)"
   ]
  },
  {
   "cell_type": "markdown",
   "metadata": {},
   "source": [
    "Check that this result is same as manually computing the median of each attribute:"
   ]
  },
  {
   "cell_type": "code",
   "execution_count": 52,
   "metadata": {},
   "outputs": [
    {
     "data": {
      "text/plain": [
       "array([-118.51  ,   34.26  ,   29.    , 2119.5   ,  433.    , 1164.    ,\n",
       "        408.    ,    3.5409])"
      ]
     },
     "execution_count": 52,
     "metadata": {},
     "output_type": "execute_result"
    }
   ],
   "source": [
    "housing_num.median().values"
   ]
  },
  {
   "cell_type": "markdown",
   "metadata": {},
   "source": [
    "Now we can use this trained imputer to transform the training set by replacing missing values with the learned medians."
   ]
  },
  {
   "cell_type": "code",
   "execution_count": 53,
   "metadata": {},
   "outputs": [],
   "source": [
    "X=imputer.transform(housing_num)"
   ]
  },
  {
   "cell_type": "markdown",
   "metadata": {},
   "source": [
    "Some estimators (such as an imputer) can also transform a dataset; these are called **transformers**. The transformation is performed by the **transform()** method with the dataset to transform as a parameter. It returns the transformed dataset.\n",
    "\n",
    "All transformers also have a convenience method called **fit_transform()** that is equivalent to calling fit() and then transform()"
   ]
  },
  {
   "cell_type": "code",
   "execution_count": 54,
   "metadata": {},
   "outputs": [
    {
     "data": {
      "text/plain": [
       "array([[-121.89  ,   37.29  ,   38.    , ...,  710.    ,  339.    ,\n",
       "           2.7042],\n",
       "       [-121.93  ,   37.05  ,   14.    , ...,  306.    ,  113.    ,\n",
       "           6.4214],\n",
       "       [-117.2   ,   32.77  ,   31.    , ...,  936.    ,  462.    ,\n",
       "           2.8621],\n",
       "       ...,\n",
       "       [-116.4   ,   34.09  ,    9.    , ..., 2098.    ,  765.    ,\n",
       "           3.2723],\n",
       "       [-118.01  ,   33.82  ,   31.    , ..., 1356.    ,  356.    ,\n",
       "           4.0625],\n",
       "       [-122.45  ,   37.77  ,   52.    , ..., 1269.    ,  639.    ,\n",
       "           3.575 ]])"
      ]
     },
     "execution_count": 54,
     "metadata": {},
     "output_type": "execute_result"
    }
   ],
   "source": [
    "X"
   ]
  },
  {
   "cell_type": "markdown",
   "metadata": {},
   "source": [
    "The result is a plain NumPy array containing the transformed features. If we want to put it back into a pandas DataFrame:"
   ]
  },
  {
   "cell_type": "code",
   "execution_count": 55,
   "metadata": {},
   "outputs": [],
   "source": [
    "housing_tr=pd.DataFrame(X,columns=housing_num.columns,\n",
    "                       index=housing_num.index)"
   ]
  },
  {
   "cell_type": "code",
   "execution_count": 56,
   "metadata": {},
   "outputs": [
    {
     "data": {
      "text/html": [
       "<div>\n",
       "<style scoped>\n",
       "    .dataframe tbody tr th:only-of-type {\n",
       "        vertical-align: middle;\n",
       "    }\n",
       "\n",
       "    .dataframe tbody tr th {\n",
       "        vertical-align: top;\n",
       "    }\n",
       "\n",
       "    .dataframe thead th {\n",
       "        text-align: right;\n",
       "    }\n",
       "</style>\n",
       "<table border=\"1\" class=\"dataframe\">\n",
       "  <thead>\n",
       "    <tr style=\"text-align: right;\">\n",
       "      <th></th>\n",
       "      <th>longitude</th>\n",
       "      <th>latitude</th>\n",
       "      <th>housing_median_age</th>\n",
       "      <th>total_rooms</th>\n",
       "      <th>total_bedrooms</th>\n",
       "      <th>population</th>\n",
       "      <th>households</th>\n",
       "      <th>median_income</th>\n",
       "    </tr>\n",
       "  </thead>\n",
       "  <tbody>\n",
       "    <tr>\n",
       "      <td>4629</td>\n",
       "      <td>-118.30</td>\n",
       "      <td>34.07</td>\n",
       "      <td>18.0</td>\n",
       "      <td>3759.0</td>\n",
       "      <td>433.0</td>\n",
       "      <td>3296.0</td>\n",
       "      <td>1462.0</td>\n",
       "      <td>2.2708</td>\n",
       "    </tr>\n",
       "    <tr>\n",
       "      <td>6068</td>\n",
       "      <td>-117.86</td>\n",
       "      <td>34.01</td>\n",
       "      <td>16.0</td>\n",
       "      <td>4632.0</td>\n",
       "      <td>433.0</td>\n",
       "      <td>3038.0</td>\n",
       "      <td>727.0</td>\n",
       "      <td>5.1762</td>\n",
       "    </tr>\n",
       "    <tr>\n",
       "      <td>17923</td>\n",
       "      <td>-121.97</td>\n",
       "      <td>37.35</td>\n",
       "      <td>30.0</td>\n",
       "      <td>1955.0</td>\n",
       "      <td>433.0</td>\n",
       "      <td>999.0</td>\n",
       "      <td>386.0</td>\n",
       "      <td>4.6328</td>\n",
       "    </tr>\n",
       "    <tr>\n",
       "      <td>13656</td>\n",
       "      <td>-117.30</td>\n",
       "      <td>34.05</td>\n",
       "      <td>6.0</td>\n",
       "      <td>2155.0</td>\n",
       "      <td>433.0</td>\n",
       "      <td>1039.0</td>\n",
       "      <td>391.0</td>\n",
       "      <td>1.6675</td>\n",
       "    </tr>\n",
       "    <tr>\n",
       "      <td>19252</td>\n",
       "      <td>-122.79</td>\n",
       "      <td>38.48</td>\n",
       "      <td>7.0</td>\n",
       "      <td>6837.0</td>\n",
       "      <td>433.0</td>\n",
       "      <td>3468.0</td>\n",
       "      <td>1405.0</td>\n",
       "      <td>3.1662</td>\n",
       "    </tr>\n",
       "  </tbody>\n",
       "</table>\n",
       "</div>"
      ],
      "text/plain": [
       "       longitude  latitude  housing_median_age  total_rooms  total_bedrooms  \\\n",
       "4629     -118.30     34.07                18.0       3759.0           433.0   \n",
       "6068     -117.86     34.01                16.0       4632.0           433.0   \n",
       "17923    -121.97     37.35                30.0       1955.0           433.0   \n",
       "13656    -117.30     34.05                 6.0       2155.0           433.0   \n",
       "19252    -122.79     38.48                 7.0       6837.0           433.0   \n",
       "\n",
       "       population  households  median_income  \n",
       "4629       3296.0      1462.0         2.2708  \n",
       "6068       3038.0       727.0         5.1762  \n",
       "17923       999.0       386.0         4.6328  \n",
       "13656      1039.0       391.0         1.6675  \n",
       "19252      3468.0      1405.0         3.1662  "
      ]
     },
     "execution_count": 56,
     "metadata": {},
     "output_type": "execute_result"
    }
   ],
   "source": [
    "housing_tr.loc[sample_incomplete_rows.index.values]"
   ]
  },
  {
   "cell_type": "code",
   "execution_count": 57,
   "metadata": {
    "scrolled": true
   },
   "outputs": [
    {
     "data": {
      "text/plain": [
       "'median'"
      ]
     },
     "execution_count": 57,
     "metadata": {},
     "output_type": "execute_result"
    }
   ],
   "source": [
    "imputer.strategy"
   ]
  },
  {
   "cell_type": "markdown",
   "metadata": {},
   "source": [
    "Now let's preprocess the categorical input feature, ocean_proximity:"
   ]
  },
  {
   "cell_type": "code",
   "execution_count": 58,
   "metadata": {},
   "outputs": [
    {
     "data": {
      "text/html": [
       "<div>\n",
       "<style scoped>\n",
       "    .dataframe tbody tr th:only-of-type {\n",
       "        vertical-align: middle;\n",
       "    }\n",
       "\n",
       "    .dataframe tbody tr th {\n",
       "        vertical-align: top;\n",
       "    }\n",
       "\n",
       "    .dataframe thead th {\n",
       "        text-align: right;\n",
       "    }\n",
       "</style>\n",
       "<table border=\"1\" class=\"dataframe\">\n",
       "  <thead>\n",
       "    <tr style=\"text-align: right;\">\n",
       "      <th></th>\n",
       "      <th>ocean_proximity</th>\n",
       "    </tr>\n",
       "  </thead>\n",
       "  <tbody>\n",
       "    <tr>\n",
       "      <td>17606</td>\n",
       "      <td>&lt;1H OCEAN</td>\n",
       "    </tr>\n",
       "    <tr>\n",
       "      <td>18632</td>\n",
       "      <td>&lt;1H OCEAN</td>\n",
       "    </tr>\n",
       "    <tr>\n",
       "      <td>14650</td>\n",
       "      <td>NEAR OCEAN</td>\n",
       "    </tr>\n",
       "    <tr>\n",
       "      <td>3230</td>\n",
       "      <td>INLAND</td>\n",
       "    </tr>\n",
       "    <tr>\n",
       "      <td>3555</td>\n",
       "      <td>&lt;1H OCEAN</td>\n",
       "    </tr>\n",
       "    <tr>\n",
       "      <td>19480</td>\n",
       "      <td>INLAND</td>\n",
       "    </tr>\n",
       "    <tr>\n",
       "      <td>8879</td>\n",
       "      <td>&lt;1H OCEAN</td>\n",
       "    </tr>\n",
       "    <tr>\n",
       "      <td>13685</td>\n",
       "      <td>INLAND</td>\n",
       "    </tr>\n",
       "    <tr>\n",
       "      <td>4937</td>\n",
       "      <td>&lt;1H OCEAN</td>\n",
       "    </tr>\n",
       "    <tr>\n",
       "      <td>4861</td>\n",
       "      <td>&lt;1H OCEAN</td>\n",
       "    </tr>\n",
       "  </tbody>\n",
       "</table>\n",
       "</div>"
      ],
      "text/plain": [
       "      ocean_proximity\n",
       "17606       <1H OCEAN\n",
       "18632       <1H OCEAN\n",
       "14650      NEAR OCEAN\n",
       "3230           INLAND\n",
       "3555        <1H OCEAN\n",
       "19480          INLAND\n",
       "8879        <1H OCEAN\n",
       "13685          INLAND\n",
       "4937        <1H OCEAN\n",
       "4861        <1H OCEAN"
      ]
     },
     "execution_count": 58,
     "metadata": {},
     "output_type": "execute_result"
    }
   ],
   "source": [
    "housing_cat=housing[[\"ocean_proximity\"]]\n",
    "housing_cat.head(10)"
   ]
  },
  {
   "cell_type": "code",
   "execution_count": 59,
   "metadata": {},
   "outputs": [
    {
     "data": {
      "text/plain": [
       "array([[0.],\n",
       "       [0.],\n",
       "       [4.],\n",
       "       [1.],\n",
       "       [0.],\n",
       "       [1.],\n",
       "       [0.],\n",
       "       [1.],\n",
       "       [0.],\n",
       "       [0.]])"
      ]
     },
     "execution_count": 59,
     "metadata": {},
     "output_type": "execute_result"
    }
   ],
   "source": [
    "from sklearn.preprocessing import OrdinalEncoder\n",
    "ordinal_encoder=OrdinalEncoder()\n",
    "housing_cat_encoded=ordinal_encoder.fit_transform(housing_cat)\n",
    "housing_cat_encoded[:10]"
   ]
  },
  {
   "cell_type": "code",
   "execution_count": 60,
   "metadata": {},
   "outputs": [
    {
     "data": {
      "text/plain": [
       "[array(['<1H OCEAN', 'INLAND', 'ISLAND', 'NEAR BAY', 'NEAR OCEAN'],\n",
       "       dtype=object)]"
      ]
     },
     "execution_count": 60,
     "metadata": {},
     "output_type": "execute_result"
    }
   ],
   "source": [
    "ordinal_encoder.categories_"
   ]
  },
  {
   "cell_type": "markdown",
   "metadata": {},
   "source": [
    "One issue with this representation is that ML algorithms will assume that two nearby values are more similar than two distant values. This may be fine in some cases (eg: for ordered categories such as \"bad\",\"avearge\",\"good\" and \"excellent\"). Obviously this is not the case for the ocean_proximity column (for example, categories 0 and 4 are more similar than categories 0 and 1). To fix this issue, a common solution is to create one binary attribute per category: one attribute\n",
    "equal to 1 when the category is “<1H OCEAN” (and 0 otherwise), another attribute equal to 1 when the category is “INLAND” (and 0 otherwise), and so on. This is called one-hot encoding, because only one attribute will be equal to 1 (hot), while the others will be 0 (cold). Scikit-Learn provides a OneHotEncoder encoder to convert integer categorical values into one-hot vectors."
   ]
  },
  {
   "cell_type": "code",
   "execution_count": 61,
   "metadata": {},
   "outputs": [
    {
     "data": {
      "text/plain": [
       "<16512x5 sparse matrix of type '<class 'numpy.float64'>'\n",
       "\twith 16512 stored elements in Compressed Sparse Row format>"
      ]
     },
     "execution_count": 61,
     "metadata": {},
     "output_type": "execute_result"
    }
   ],
   "source": [
    "from sklearn.preprocessing import OneHotEncoder\n",
    "cat_encoder=OneHotEncoder()\n",
    "housing_cat_1hot=cat_encoder.fit_transform(housing_cat)\n",
    "housing_cat_1hot"
   ]
  },
  {
   "cell_type": "markdown",
   "metadata": {},
   "source": [
    "Notice that the output is SciPy sparse matrix, instead of a NumPy array. This is very useful when we have categorical attributes with thousands of categories. After one hot encoding, we get a matrix with thousands of columns, and the matrix is full of 0s except for a single 1 per row. Using up tons of memory mostly to zeros would be very wasteful, so instead a sparse matrix only stores the location of the nonzero elements. We can use it mostly like a normal 2D array, but if we really want to convert it to a (dense) Numpy array, just call the **toarray()** method"
   ]
  },
  {
   "cell_type": "code",
   "execution_count": 62,
   "metadata": {},
   "outputs": [
    {
     "data": {
      "text/plain": [
       "array([[1., 0., 0., 0., 0.],\n",
       "       [1., 0., 0., 0., 0.],\n",
       "       [0., 0., 0., 0., 1.],\n",
       "       ...,\n",
       "       [0., 1., 0., 0., 0.],\n",
       "       [1., 0., 0., 0., 0.],\n",
       "       [0., 0., 0., 1., 0.]])"
      ]
     },
     "execution_count": 62,
     "metadata": {},
     "output_type": "execute_result"
    }
   ],
   "source": [
    "housing_cat_1hot.toarray()"
   ]
  },
  {
   "cell_type": "markdown",
   "metadata": {},
   "source": [
    "Alternatively, we can set sparse=False when creating the OneHotEncoder"
   ]
  },
  {
   "cell_type": "code",
   "execution_count": 63,
   "metadata": {},
   "outputs": [
    {
     "data": {
      "text/plain": [
       "array([[1., 0., 0., 0., 0.],\n",
       "       [1., 0., 0., 0., 0.],\n",
       "       [0., 0., 0., 0., 1.],\n",
       "       ...,\n",
       "       [0., 1., 0., 0., 0.],\n",
       "       [1., 0., 0., 0., 0.],\n",
       "       [0., 0., 0., 1., 0.]])"
      ]
     },
     "execution_count": 63,
     "metadata": {},
     "output_type": "execute_result"
    }
   ],
   "source": [
    "cat_encoder=OneHotEncoder(sparse=False)\n",
    "housing_cat_1hot=cat_encoder.fit_transform(housing_cat)\n",
    "housing_cat_1hot"
   ]
  },
  {
   "cell_type": "markdown",
   "metadata": {},
   "source": [
    "Let's create a custom transformer to add extra attributes."
   ]
  },
  {
   "cell_type": "code",
   "execution_count": 64,
   "metadata": {},
   "outputs": [],
   "source": [
    "from sklearn.base import BaseEstimator, TransformerMixin\n",
    "\n",
    "# column index\n",
    "col_names=\"total_rooms\",\"total_bedrooms\",\"population\",\"households\"\n",
    "rooms_ix,bedrooms_ix,population_ix,households_ix= [\n",
    "    housing.columns.get_loc(c) for c in col_names]\n",
    "\n",
    "class CombinedAttributesAdder(BaseEstimator, TransformerMixin):\n",
    "    def __init__(self, add_bedrooms_per_room=True):\n",
    "        self.add_bedrooms_per_room=add_bedrooms_per_room\n",
    "    def fit(self, X, y=None):\n",
    "        return self\n",
    "    def transform(self, X):\n",
    "        rooms_per_household=X[:, rooms_ix] / X[:, households_ix]\n",
    "        population_per_household=X[:,population_ix] / X[:, households_ix]\n",
    "        if self.add_bedrooms_per_room:\n",
    "            bedrooms_per_room=X[:, bedrooms_ix] / X[:, rooms_ix]\n",
    "            return np.c_[X, rooms_per_household, population_per_household,\n",
    "                        bedrooms_per_room]\n",
    "        else:\n",
    "            return np.c_[X, rooms_per_household, population_per_household]\n",
    "\n",
    "attr_adder= CombinedAttributesAdder(add_bedrooms_per_room=False)\n",
    "housing_extra_attribs=attr_adder.transform(housing.values)"
   ]
  },
  {
   "cell_type": "markdown",
   "metadata": {},
   "source": [
    "More about transformers:\n",
    "https://towardsdatascience.com/custom-transformers-and-ml-data-pipelines-with-python-20ea2a7adb65"
   ]
  },
  {
   "cell_type": "code",
   "execution_count": 65,
   "metadata": {},
   "outputs": [
    {
     "data": {
      "text/plain": [
       "array([[-121.89, 37.29, 38.0, ..., '<1H OCEAN', 4.625368731563422,\n",
       "        2.094395280235988],\n",
       "       [-121.93, 37.05, 14.0, ..., '<1H OCEAN', 6.008849557522124,\n",
       "        2.7079646017699117],\n",
       "       [-117.2, 32.77, 31.0, ..., 'NEAR OCEAN', 4.225108225108225,\n",
       "        2.0259740259740258],\n",
       "       ...,\n",
       "       [-116.4, 34.09, 9.0, ..., 'INLAND', 6.34640522875817,\n",
       "        2.742483660130719],\n",
       "       [-118.01, 33.82, 31.0, ..., '<1H OCEAN', 5.50561797752809,\n",
       "        3.808988764044944],\n",
       "       [-122.45, 37.77, 52.0, ..., 'NEAR BAY', 4.843505477308295,\n",
       "        1.9859154929577465]], dtype=object)"
      ]
     },
     "execution_count": 65,
     "metadata": {},
     "output_type": "execute_result"
    }
   ],
   "source": [
    "housing_extra_attribs"
   ]
  },
  {
   "cell_type": "markdown",
   "metadata": {},
   "source": [
    "housing_extra_attribs is a NumPy array. We have lost all the column names (unfortunately, that's a problem with Scikit Learn). To recover a DataFrame, we can run this:"
   ]
  },
  {
   "cell_type": "code",
   "execution_count": 66,
   "metadata": {},
   "outputs": [],
   "source": [
    "housing_extra_attribs=pd.DataFrame(\n",
    "    housing_extra_attribs,\n",
    "    columns=list(housing.columns)+[\"rooms_per_household\",\"population_per_household\"],\n",
    "    index=housing.index)"
   ]
  },
  {
   "cell_type": "code",
   "execution_count": 67,
   "metadata": {
    "scrolled": true
   },
   "outputs": [
    {
     "data": {
      "text/html": [
       "<div>\n",
       "<style scoped>\n",
       "    .dataframe tbody tr th:only-of-type {\n",
       "        vertical-align: middle;\n",
       "    }\n",
       "\n",
       "    .dataframe tbody tr th {\n",
       "        vertical-align: top;\n",
       "    }\n",
       "\n",
       "    .dataframe thead th {\n",
       "        text-align: right;\n",
       "    }\n",
       "</style>\n",
       "<table border=\"1\" class=\"dataframe\">\n",
       "  <thead>\n",
       "    <tr style=\"text-align: right;\">\n",
       "      <th></th>\n",
       "      <th>longitude</th>\n",
       "      <th>latitude</th>\n",
       "      <th>housing_median_age</th>\n",
       "      <th>total_rooms</th>\n",
       "      <th>total_bedrooms</th>\n",
       "      <th>population</th>\n",
       "      <th>households</th>\n",
       "      <th>median_income</th>\n",
       "      <th>ocean_proximity</th>\n",
       "      <th>rooms_per_household</th>\n",
       "      <th>population_per_household</th>\n",
       "    </tr>\n",
       "  </thead>\n",
       "  <tbody>\n",
       "    <tr>\n",
       "      <td>17606</td>\n",
       "      <td>-121.89</td>\n",
       "      <td>37.29</td>\n",
       "      <td>38</td>\n",
       "      <td>1568</td>\n",
       "      <td>351</td>\n",
       "      <td>710</td>\n",
       "      <td>339</td>\n",
       "      <td>2.7042</td>\n",
       "      <td>&lt;1H OCEAN</td>\n",
       "      <td>4.62537</td>\n",
       "      <td>2.0944</td>\n",
       "    </tr>\n",
       "    <tr>\n",
       "      <td>18632</td>\n",
       "      <td>-121.93</td>\n",
       "      <td>37.05</td>\n",
       "      <td>14</td>\n",
       "      <td>679</td>\n",
       "      <td>108</td>\n",
       "      <td>306</td>\n",
       "      <td>113</td>\n",
       "      <td>6.4214</td>\n",
       "      <td>&lt;1H OCEAN</td>\n",
       "      <td>6.00885</td>\n",
       "      <td>2.70796</td>\n",
       "    </tr>\n",
       "    <tr>\n",
       "      <td>14650</td>\n",
       "      <td>-117.2</td>\n",
       "      <td>32.77</td>\n",
       "      <td>31</td>\n",
       "      <td>1952</td>\n",
       "      <td>471</td>\n",
       "      <td>936</td>\n",
       "      <td>462</td>\n",
       "      <td>2.8621</td>\n",
       "      <td>NEAR OCEAN</td>\n",
       "      <td>4.22511</td>\n",
       "      <td>2.02597</td>\n",
       "    </tr>\n",
       "    <tr>\n",
       "      <td>3230</td>\n",
       "      <td>-119.61</td>\n",
       "      <td>36.31</td>\n",
       "      <td>25</td>\n",
       "      <td>1847</td>\n",
       "      <td>371</td>\n",
       "      <td>1460</td>\n",
       "      <td>353</td>\n",
       "      <td>1.8839</td>\n",
       "      <td>INLAND</td>\n",
       "      <td>5.23229</td>\n",
       "      <td>4.13598</td>\n",
       "    </tr>\n",
       "    <tr>\n",
       "      <td>3555</td>\n",
       "      <td>-118.59</td>\n",
       "      <td>34.23</td>\n",
       "      <td>17</td>\n",
       "      <td>6592</td>\n",
       "      <td>1525</td>\n",
       "      <td>4459</td>\n",
       "      <td>1463</td>\n",
       "      <td>3.0347</td>\n",
       "      <td>&lt;1H OCEAN</td>\n",
       "      <td>4.50581</td>\n",
       "      <td>3.04785</td>\n",
       "    </tr>\n",
       "  </tbody>\n",
       "</table>\n",
       "</div>"
      ],
      "text/plain": [
       "      longitude latitude housing_median_age total_rooms total_bedrooms  \\\n",
       "17606   -121.89    37.29                 38        1568            351   \n",
       "18632   -121.93    37.05                 14         679            108   \n",
       "14650    -117.2    32.77                 31        1952            471   \n",
       "3230    -119.61    36.31                 25        1847            371   \n",
       "3555    -118.59    34.23                 17        6592           1525   \n",
       "\n",
       "      population households median_income ocean_proximity rooms_per_household  \\\n",
       "17606        710        339        2.7042       <1H OCEAN             4.62537   \n",
       "18632        306        113        6.4214       <1H OCEAN             6.00885   \n",
       "14650        936        462        2.8621      NEAR OCEAN             4.22511   \n",
       "3230        1460        353        1.8839          INLAND             5.23229   \n",
       "3555        4459       1463        3.0347       <1H OCEAN             4.50581   \n",
       "\n",
       "      population_per_household  \n",
       "17606                   2.0944  \n",
       "18632                  2.70796  \n",
       "14650                  2.02597  \n",
       "3230                   4.13598  \n",
       "3555                   3.04785  "
      ]
     },
     "execution_count": 67,
     "metadata": {},
     "output_type": "execute_result"
    }
   ],
   "source": [
    "housing_extra_attribs.head()"
   ]
  },
  {
   "cell_type": "markdown",
   "metadata": {},
   "source": [
    "Now let's build a pipeline for preprocessing the numerical attributes:"
   ]
  },
  {
   "cell_type": "code",
   "execution_count": 68,
   "metadata": {},
   "outputs": [],
   "source": [
    "from sklearn.pipeline import Pipeline\n",
    "from sklearn.preprocessing import StandardScaler\n",
    "\n",
    "num_pipeline=Pipeline([('imputer',SimpleImputer(strategy=\"median\")),\n",
    "                      ('attribs_adder',CombinedAttributesAdder()),\n",
    "                      ('std_scaler',StandardScaler()),])\n",
    "housing_num_tr=num_pipeline.fit_transform(housing_num)"
   ]
  },
  {
   "cell_type": "code",
   "execution_count": 69,
   "metadata": {},
   "outputs": [
    {
     "data": {
      "text/plain": [
       "array([[-1.15604281,  0.77194962,  0.74333089, ..., -0.31205452,\n",
       "        -0.08649871,  0.15531753],\n",
       "       [-1.17602483,  0.6596948 , -1.1653172 , ...,  0.21768338,\n",
       "        -0.03353391, -0.83628902],\n",
       "       [ 1.18684903, -1.34218285,  0.18664186, ..., -0.46531516,\n",
       "        -0.09240499,  0.4222004 ],\n",
       "       ...,\n",
       "       [ 1.58648943, -0.72478134, -1.56295222, ...,  0.3469342 ,\n",
       "        -0.03055414, -0.52177644],\n",
       "       [ 0.78221312, -0.85106801,  0.18664186, ...,  0.02499488,\n",
       "         0.06150916, -0.30340741],\n",
       "       [-1.43579109,  0.99645926,  1.85670895, ..., -0.22852947,\n",
       "        -0.09586294,  0.10180567]])"
      ]
     },
     "execution_count": 69,
     "metadata": {},
     "output_type": "execute_result"
    }
   ],
   "source": [
    "housing_num_tr"
   ]
  },
  {
   "cell_type": "markdown",
   "metadata": {},
   "source": [
    "So far, we have handled the categorical columns and the numerical columns separately. It would be more convenient to have a single transformer able to handle all columns, applying the appropriate transformation to each column."
   ]
  },
  {
   "cell_type": "code",
   "execution_count": 70,
   "metadata": {},
   "outputs": [],
   "source": [
    "from sklearn.compose import ColumnTransformer\n",
    "num_attribs=list(housing_num)\n",
    "cat_attribs=list(housing_cat)\n",
    "\n",
    "full_pipeline=ColumnTransformer([\n",
    "        (\"num\",num_pipeline,num_attribs),\n",
    "        (\"cat\",OneHotEncoder(),cat_attribs),\n",
    "    ])\n",
    "housing_prepared=full_pipeline.fit_transform(housing)"
   ]
  },
  {
   "cell_type": "code",
   "execution_count": 71,
   "metadata": {},
   "outputs": [
    {
     "data": {
      "text/plain": [
       "array([[-1.15604281,  0.77194962,  0.74333089, ...,  0.        ,\n",
       "         0.        ,  0.        ],\n",
       "       [-1.17602483,  0.6596948 , -1.1653172 , ...,  0.        ,\n",
       "         0.        ,  0.        ],\n",
       "       [ 1.18684903, -1.34218285,  0.18664186, ...,  0.        ,\n",
       "         0.        ,  1.        ],\n",
       "       ...,\n",
       "       [ 1.58648943, -0.72478134, -1.56295222, ...,  0.        ,\n",
       "         0.        ,  0.        ],\n",
       "       [ 0.78221312, -0.85106801,  0.18664186, ...,  0.        ,\n",
       "         0.        ,  0.        ],\n",
       "       [-1.43579109,  0.99645926,  1.85670895, ...,  0.        ,\n",
       "         1.        ,  0.        ]])"
      ]
     },
     "execution_count": 71,
     "metadata": {},
     "output_type": "execute_result"
    }
   ],
   "source": [
    "housing_prepared"
   ]
  },
  {
   "cell_type": "code",
   "execution_count": 72,
   "metadata": {},
   "outputs": [
    {
     "data": {
      "text/plain": [
       "(16512, 16)"
      ]
     },
     "execution_count": 72,
     "metadata": {},
     "output_type": "execute_result"
    }
   ],
   "source": [
    "housing_prepared.shape"
   ]
  },
  {
   "cell_type": "markdown",
   "metadata": {},
   "source": [
    "# Select and train a model"
   ]
  },
  {
   "cell_type": "code",
   "execution_count": 73,
   "metadata": {},
   "outputs": [
    {
     "data": {
      "text/plain": [
       "LinearRegression(copy_X=True, fit_intercept=True, n_jobs=None, normalize=False)"
      ]
     },
     "execution_count": 73,
     "metadata": {},
     "output_type": "execute_result"
    }
   ],
   "source": [
    "from sklearn.linear_model import LinearRegression\n",
    "\n",
    "lin_reg=LinearRegression()\n",
    "lin_reg.fit(housing_prepared,housing_labels)"
   ]
  },
  {
   "cell_type": "markdown",
   "metadata": {},
   "source": [
    "Let's try the full preprocessing pipeline on a few training instances"
   ]
  },
  {
   "cell_type": "code",
   "execution_count": 74,
   "metadata": {},
   "outputs": [
    {
     "name": "stdout",
     "output_type": "stream",
     "text": [
      "Predictions:  [210644.60459286 317768.80697211 210956.43331178  59218.98886849\n",
      " 189747.55849879]\n"
     ]
    }
   ],
   "source": [
    "some_data=housing.iloc[:5]\n",
    "some_labels=housing_labels.iloc[:5]\n",
    "some_data_prepared=full_pipeline.transform(some_data)\n",
    "\n",
    "print(\"Predictions: \",lin_reg.predict(some_data_prepared))"
   ]
  },
  {
   "cell_type": "markdown",
   "metadata": {},
   "source": [
    "Compare against the actual values"
   ]
  },
  {
   "cell_type": "code",
   "execution_count": 75,
   "metadata": {},
   "outputs": [
    {
     "name": "stdout",
     "output_type": "stream",
     "text": [
      "Labels:  [286600.0, 340600.0, 196900.0, 46300.0, 254500.0]\n"
     ]
    }
   ],
   "source": [
    "print(\"Labels: \",list(some_labels))"
   ]
  },
  {
   "cell_type": "markdown",
   "metadata": {},
   "source": [
    "Let's measure this regression model's root mean squared error(**RMSE**) on the whole training set using Scikit learn's **mean_squared_error()** function"
   ]
  },
  {
   "cell_type": "code",
   "execution_count": 76,
   "metadata": {},
   "outputs": [
    {
     "data": {
      "text/plain": [
       "68628.19819848923"
      ]
     },
     "execution_count": 76,
     "metadata": {},
     "output_type": "execute_result"
    }
   ],
   "source": [
    "from sklearn.metrics import mean_squared_error\n",
    "\n",
    "housing_predictions=lin_reg.predict(housing_prepared)\n",
    "lin_mse=mean_squared_error(housing_labels,housing_predictions)\n",
    "lin_rmse=np.sqrt(lin_mse)\n",
    "lin_rmse"
   ]
  },
  {
   "cell_type": "markdown",
   "metadata": {},
   "source": [
    "Most district's median_house_values range from 120,000 to 265,000, so a typical prediction error of 68,628 is not very satisfying. This is an example of model underfitting the training data. When this happens it means that the features do not provide enough information to make good predictions, or that the model is not powerful enough. The main ways to fix underfitting are to select a more powerful model, to feed the algorithm with better features,or to reduce the constraints on the model. This model is not regularized, so it rules out this option"
   ]
  },
  {
   "cell_type": "markdown",
   "metadata": {},
   "source": [
    "Let's train a more powerful model, capable of finding complex non linear relationships, the **DecisionTreeRegressor**."
   ]
  },
  {
   "cell_type": "code",
   "execution_count": 77,
   "metadata": {},
   "outputs": [
    {
     "data": {
      "text/plain": [
       "DecisionTreeRegressor(criterion='mse', max_depth=None, max_features=None,\n",
       "                      max_leaf_nodes=None, min_impurity_decrease=0.0,\n",
       "                      min_impurity_split=None, min_samples_leaf=1,\n",
       "                      min_samples_split=2, min_weight_fraction_leaf=0.0,\n",
       "                      presort=False, random_state=None, splitter='best')"
      ]
     },
     "execution_count": 77,
     "metadata": {},
     "output_type": "execute_result"
    }
   ],
   "source": [
    "from sklearn.tree import DecisionTreeRegressor\n",
    "\n",
    "tree_reg=DecisionTreeRegressor()\n",
    "tree_reg.fit(housing_prepared,housing_labels)"
   ]
  },
  {
   "cell_type": "code",
   "execution_count": 78,
   "metadata": {},
   "outputs": [
    {
     "data": {
      "text/plain": [
       "0.0"
      ]
     },
     "execution_count": 78,
     "metadata": {},
     "output_type": "execute_result"
    }
   ],
   "source": [
    "housing_predictions=tree_reg.predict(housing_prepared)\n",
    "tree_mse=mean_squared_error(housing_labels,housing_predictions)\n",
    "tree_rmse=np.sqrt(tree_mse)\n",
    "tree_rmse"
   ]
  },
  {
   "cell_type": "markdown",
   "metadata": {},
   "source": [
    "It is much more likely that the model has badly overfit the data."
   ]
  },
  {
   "cell_type": "markdown",
   "metadata": {},
   "source": [
    "# Fine tune the model"
   ]
  },
  {
   "cell_type": "markdown",
   "metadata": {},
   "source": [
    "One way to evaluate the Decision Tree model would be to use Scikit Learn's K-fold cross validation feature. The following code randomly splits the training set into 10 distinct subsets called folds, then it trains and evaluates the decision tree model 10 times, picking a fold for evaluation every time and training on the other 9 folds. The result is an array containing the 10 evaluation scores"
   ]
  },
  {
   "cell_type": "code",
   "execution_count": 79,
   "metadata": {},
   "outputs": [],
   "source": [
    "from sklearn.model_selection import cross_val_score\n",
    "\n",
    "scores=cross_val_score(tree_reg,housing_prepared,housing_labels,\n",
    "                       scoring=\"neg_mean_squared_error\",cv=10)\n",
    "tree_rmse_scores=np.sqrt(-scores)"
   ]
  },
  {
   "cell_type": "markdown",
   "metadata": {},
   "source": [
    "Scikit-learn's cross validation features expect a utility function (greater is better) rather than a cost function (lower is better), so scoring function is actually the opposite of the MSE (i.e, a negative value), which is why the preceding code computes -scores before calculating the square root. "
   ]
  },
  {
   "cell_type": "code",
   "execution_count": 80,
   "metadata": {},
   "outputs": [
    {
     "name": "stdout",
     "output_type": "stream",
     "text": [
      "Scores:  [69327.01708558 65486.39211857 71358.25563341 69091.37509104\n",
      " 70570.20267046 75529.94622521 69895.20650652 70660.14247357\n",
      " 75843.74719231 68905.17669382]\n",
      "Mean:  70666.74616904806\n",
      "Standard deviation:  2928.322738055112\n"
     ]
    }
   ],
   "source": [
    "def display_scores(scores):\n",
    "    print(\"Scores: \",scores)\n",
    "    print(\"Mean: \",scores.mean())\n",
    "    print(\"Standard deviation: \",scores.std())\n",
    "    \n",
    "display_scores(tree_rmse_scores)"
   ]
  },
  {
   "cell_type": "markdown",
   "metadata": {},
   "source": [
    "Now, the decision tree doesn't look as good as it did earlier. In fact, it seems to perform worse than the linear regression model.\n",
    "\n",
    "Cross-validation allows you to get not only an estimate of the performance of the model, but also a measure of how precise this estimate is (i.e, its standard deviation). The decision tree has a score of approximately 70,666 ,generally + or - 2928. We would have not have this information if we just used one validation set. But cross-validation comes at a cost of training the model several times."
   ]
  },
  {
   "cell_type": "code",
   "execution_count": 81,
   "metadata": {},
   "outputs": [
    {
     "name": "stdout",
     "output_type": "stream",
     "text": [
      "Scores:  [66782.73843989 66960.118071   70347.95244419 74739.57052552\n",
      " 68031.13388938 71193.84183426 64969.63056405 68281.61137997\n",
      " 71552.91566558 67665.10082067]\n",
      "Mean:  69052.46136345083\n",
      "Standard deviation:  2731.674001798349\n"
     ]
    }
   ],
   "source": [
    "lin_scores=cross_val_score(lin_reg,housing_prepared,housing_labels,\n",
    "                          scoring=\"neg_mean_squared_error\",cv=10)\n",
    "lin_rmse_scores=np.sqrt(-lin_scores)\n",
    "display_scores(lin_rmse_scores)"
   ]
  },
  {
   "cell_type": "markdown",
   "metadata": {},
   "source": [
    "We see that the Decision tree model is overfitting so badly that it performs worse than the linear regression model.\n",
    "\n",
    "Let's try our hands at **Random Forest Regressor**."
   ]
  },
  {
   "cell_type": "code",
   "execution_count": 82,
   "metadata": {},
   "outputs": [
    {
     "data": {
      "text/plain": [
       "RandomForestRegressor(bootstrap=True, criterion='mse', max_depth=None,\n",
       "                      max_features='auto', max_leaf_nodes=None,\n",
       "                      min_impurity_decrease=0.0, min_impurity_split=None,\n",
       "                      min_samples_leaf=1, min_samples_split=2,\n",
       "                      min_weight_fraction_leaf=0.0, n_estimators=100,\n",
       "                      n_jobs=None, oob_score=False, random_state=42, verbose=0,\n",
       "                      warm_start=False)"
      ]
     },
     "execution_count": 82,
     "metadata": {},
     "output_type": "execute_result"
    }
   ],
   "source": [
    "from sklearn.ensemble import RandomForestRegressor\n",
    "\n",
    "forest_reg=RandomForestRegressor(n_estimators=100,random_state=42)\n",
    "forest_reg.fit(housing_prepared,housing_labels)"
   ]
  },
  {
   "cell_type": "code",
   "execution_count": 83,
   "metadata": {},
   "outputs": [
    {
     "data": {
      "text/plain": [
       "18603.515021376355"
      ]
     },
     "execution_count": 83,
     "metadata": {},
     "output_type": "execute_result"
    }
   ],
   "source": [
    "housing_predictions=forest_reg.predict(housing_prepared)\n",
    "forest_mse=mean_squared_error(housing_labels,housing_predictions)\n",
    "forest_rmse=np.sqrt(forest_mse)\n",
    "forest_rmse"
   ]
  },
  {
   "cell_type": "code",
   "execution_count": 84,
   "metadata": {},
   "outputs": [
    {
     "name": "stdout",
     "output_type": "stream",
     "text": [
      "Scores:  [49519.80364233 47461.9115823  50029.02762854 52325.28068953\n",
      " 49308.39426421 53446.37892622 48634.8036574  47585.73832311\n",
      " 53490.10699751 50021.5852922 ]\n",
      "Mean:  50182.303100336096\n",
      "Standard deviation:  2097.0810550985693\n"
     ]
    }
   ],
   "source": [
    "forest_scores = cross_val_score(forest_reg, housing_prepared, housing_labels,\n",
    "                                scoring=\"neg_mean_squared_error\", cv=10)\n",
    "forest_rmse_scores = np.sqrt(-forest_scores)\n",
    "display_scores(forest_rmse_scores)"
   ]
  },
  {
   "cell_type": "markdown",
   "metadata": {},
   "source": [
    "The results of Random Forests look very promising. However, note that the score on training set is still much lower than on the validation sets, meaning that the model is still overfitting the training set."
   ]
  },
  {
   "cell_type": "markdown",
   "metadata": {},
   "source": [
    "Let's try our hands at **Support Vector Machines**."
   ]
  },
  {
   "cell_type": "code",
   "execution_count": 85,
   "metadata": {},
   "outputs": [
    {
     "data": {
      "text/plain": [
       "111094.6308539982"
      ]
     },
     "execution_count": 85,
     "metadata": {},
     "output_type": "execute_result"
    }
   ],
   "source": [
    "from sklearn.svm import SVR\n",
    "\n",
    "svm_reg=SVR(kernel=\"linear\")\n",
    "svm_reg.fit(housing_prepared,housing_labels)\n",
    "housing_predictions=svm_reg.predict(housing_prepared)\n",
    "svm_mse=mean_squared_error(housing_labels,housing_predictions)\n",
    "svm_rmse=np.sqrt(svm_mse)\n",
    "svm_rmse"
   ]
  },
  {
   "cell_type": "code",
   "execution_count": 86,
   "metadata": {},
   "outputs": [
    {
     "name": "stdout",
     "output_type": "stream",
     "text": [
      "Scores:  [105342.09141998 112489.24624123 110092.35042753 113403.22892482\n",
      " 110638.90119657 115675.8320024  110703.56887243 114476.89008206\n",
      " 113756.17971227 111520.1120808 ]\n",
      "Mean:  111809.84009600841\n",
      "Standard deviation:  2762.393664321567\n"
     ]
    }
   ],
   "source": [
    "svm_scores=cross_val_score(svm_reg,housing_prepared,housing_labels,\n",
    "                          scoring=\"neg_mean_squared_error\",cv=10)\n",
    "svm_rmse_scores=np.sqrt(-svm_scores)\n",
    "display_scores(svm_rmse_scores)"
   ]
  },
  {
   "cell_type": "code",
   "execution_count": 87,
   "metadata": {},
   "outputs": [
    {
     "data": {
      "text/plain": [
       "GridSearchCV(cv=5, error_score='raise-deprecating',\n",
       "             estimator=RandomForestRegressor(bootstrap=True, criterion='mse',\n",
       "                                             max_depth=None,\n",
       "                                             max_features='auto',\n",
       "                                             max_leaf_nodes=None,\n",
       "                                             min_impurity_decrease=0.0,\n",
       "                                             min_impurity_split=None,\n",
       "                                             min_samples_leaf=1,\n",
       "                                             min_samples_split=2,\n",
       "                                             min_weight_fraction_leaf=0.0,\n",
       "                                             n_estimators='warn', n_jobs=None,\n",
       "                                             oob_score=False, random_state=42,\n",
       "                                             verbose=0, warm_start=False),\n",
       "             iid='warn', n_jobs=None,\n",
       "             param_grid=[{'max_features': [2, 4, 6, 8],\n",
       "                          'n_estimators': [3, 10, 30]},\n",
       "                         {'bootstrap': [False], 'max_features': [2, 3, 4],\n",
       "                          'n_estimators': [3, 10]}],\n",
       "             pre_dispatch='2*n_jobs', refit=True, return_train_score=True,\n",
       "             scoring='neg_mean_squared_error', verbose=0)"
      ]
     },
     "execution_count": 87,
     "metadata": {},
     "output_type": "execute_result"
    }
   ],
   "source": [
    "from sklearn.model_selection import GridSearchCV\n",
    "\n",
    "param_grid=[\n",
    "    {'n_estimators':[3,10,30],'max_features':[2,4,6,8]},\n",
    "    {'bootstrap':[False],'n_estimators':[3,10],'max_features':[2,3,4]},\n",
    "  ]\n",
    "\n",
    "forest_reg=RandomForestRegressor(random_state=42)\n",
    "grid_search=GridSearchCV(forest_reg,param_grid,cv=5,\n",
    "                        scoring='neg_mean_squared_error',\n",
    "                        return_train_score=True)\n",
    "grid_search.fit(housing_prepared,housing_labels)"
   ]
  },
  {
   "cell_type": "markdown",
   "metadata": {},
   "source": [
    "The param_grid tells Scikit Learn to first evaluate all 3 x 4 = 12 combinations of n_estimators and max_features hyperparameter values specified in the first dict, then try all 2 x 3 = 6 combinations of hyperparameter values in the second dict, but this time with the bootstrap hyperparameter set to False instead of True (which is the default value for this hyperparameter)\n",
    "\n",
    "The Grid Search will explore 12 + 6 = 18 combinations of RandomForestRegressor hyperparameter values, and it will train each model 5 times (since we are using five fold cross validation). In other words, all in all, there will be 18 x 5 = 90 rounds of training.\n",
    "\n",
    "We can check the best combination of parameters like this:"
   ]
  },
  {
   "cell_type": "code",
   "execution_count": 88,
   "metadata": {},
   "outputs": [
    {
     "data": {
      "text/plain": [
       "{'max_features': 8, 'n_estimators': 30}"
      ]
     },
     "execution_count": 88,
     "metadata": {},
     "output_type": "execute_result"
    }
   ],
   "source": [
    "grid_search.best_params_"
   ]
  },
  {
   "cell_type": "markdown",
   "metadata": {},
   "source": [
    "We can get the best estimator like this:"
   ]
  },
  {
   "cell_type": "code",
   "execution_count": 89,
   "metadata": {},
   "outputs": [
    {
     "data": {
      "text/plain": [
       "RandomForestRegressor(bootstrap=True, criterion='mse', max_depth=None,\n",
       "                      max_features=8, max_leaf_nodes=None,\n",
       "                      min_impurity_decrease=0.0, min_impurity_split=None,\n",
       "                      min_samples_leaf=1, min_samples_split=2,\n",
       "                      min_weight_fraction_leaf=0.0, n_estimators=30,\n",
       "                      n_jobs=None, oob_score=False, random_state=42, verbose=0,\n",
       "                      warm_start=False)"
      ]
     },
     "execution_count": 89,
     "metadata": {},
     "output_type": "execute_result"
    }
   ],
   "source": [
    "grid_search.best_estimator_"
   ]
  },
  {
   "cell_type": "markdown",
   "metadata": {},
   "source": [
    "Let's look at the score of each hyperparameter combination tested during grid search"
   ]
  },
  {
   "cell_type": "code",
   "execution_count": 90,
   "metadata": {},
   "outputs": [
    {
     "name": "stdout",
     "output_type": "stream",
     "text": [
      "63669.05791727153 {'max_features': 2, 'n_estimators': 3}\n",
      "55627.16171305252 {'max_features': 2, 'n_estimators': 10}\n",
      "53384.57867637289 {'max_features': 2, 'n_estimators': 30}\n",
      "60965.99185930139 {'max_features': 4, 'n_estimators': 3}\n",
      "52740.98248528835 {'max_features': 4, 'n_estimators': 10}\n",
      "50377.344409590376 {'max_features': 4, 'n_estimators': 30}\n",
      "58663.84733372485 {'max_features': 6, 'n_estimators': 3}\n",
      "52006.15355973719 {'max_features': 6, 'n_estimators': 10}\n",
      "50146.465964159885 {'max_features': 6, 'n_estimators': 30}\n",
      "57869.25504027614 {'max_features': 8, 'n_estimators': 3}\n",
      "51711.09443660957 {'max_features': 8, 'n_estimators': 10}\n",
      "49682.25345942335 {'max_features': 8, 'n_estimators': 30}\n",
      "62895.088889905004 {'bootstrap': False, 'max_features': 2, 'n_estimators': 3}\n",
      "54658.14484390074 {'bootstrap': False, 'max_features': 2, 'n_estimators': 10}\n",
      "59470.399594730654 {'bootstrap': False, 'max_features': 3, 'n_estimators': 3}\n",
      "52725.01091081235 {'bootstrap': False, 'max_features': 3, 'n_estimators': 10}\n",
      "57490.612956065226 {'bootstrap': False, 'max_features': 4, 'n_estimators': 3}\n",
      "51009.51445842374 {'bootstrap': False, 'max_features': 4, 'n_estimators': 10}\n"
     ]
    }
   ],
   "source": [
    "cvres=grid_search.cv_results_\n",
    "for mean_score, params in zip(cvres['mean_test_score'],cvres['params']):\n",
    "    print(np.sqrt(-mean_score),params)"
   ]
  },
  {
   "cell_type": "code",
   "execution_count": 91,
   "metadata": {},
   "outputs": [
    {
     "data": {
      "text/html": [
       "<div>\n",
       "<style scoped>\n",
       "    .dataframe tbody tr th:only-of-type {\n",
       "        vertical-align: middle;\n",
       "    }\n",
       "\n",
       "    .dataframe tbody tr th {\n",
       "        vertical-align: top;\n",
       "    }\n",
       "\n",
       "    .dataframe thead th {\n",
       "        text-align: right;\n",
       "    }\n",
       "</style>\n",
       "<table border=\"1\" class=\"dataframe\">\n",
       "  <thead>\n",
       "    <tr style=\"text-align: right;\">\n",
       "      <th></th>\n",
       "      <th>mean_fit_time</th>\n",
       "      <th>std_fit_time</th>\n",
       "      <th>mean_score_time</th>\n",
       "      <th>std_score_time</th>\n",
       "      <th>param_max_features</th>\n",
       "      <th>param_n_estimators</th>\n",
       "      <th>param_bootstrap</th>\n",
       "      <th>params</th>\n",
       "      <th>split0_test_score</th>\n",
       "      <th>split1_test_score</th>\n",
       "      <th>...</th>\n",
       "      <th>mean_test_score</th>\n",
       "      <th>std_test_score</th>\n",
       "      <th>rank_test_score</th>\n",
       "      <th>split0_train_score</th>\n",
       "      <th>split1_train_score</th>\n",
       "      <th>split2_train_score</th>\n",
       "      <th>split3_train_score</th>\n",
       "      <th>split4_train_score</th>\n",
       "      <th>mean_train_score</th>\n",
       "      <th>std_train_score</th>\n",
       "    </tr>\n",
       "  </thead>\n",
       "  <tbody>\n",
       "    <tr>\n",
       "      <td>0</td>\n",
       "      <td>0.083875</td>\n",
       "      <td>0.006181</td>\n",
       "      <td>0.004881</td>\n",
       "      <td>0.000494</td>\n",
       "      <td>2</td>\n",
       "      <td>3</td>\n",
       "      <td>NaN</td>\n",
       "      <td>{'max_features': 2, 'n_estimators': 3}</td>\n",
       "      <td>-3.837622e+09</td>\n",
       "      <td>-4.147108e+09</td>\n",
       "      <td>...</td>\n",
       "      <td>-4.053749e+09</td>\n",
       "      <td>1.519609e+08</td>\n",
       "      <td>18</td>\n",
       "      <td>-1.064113e+09</td>\n",
       "      <td>-1.105142e+09</td>\n",
       "      <td>-1.116550e+09</td>\n",
       "      <td>-1.112342e+09</td>\n",
       "      <td>-1.129650e+09</td>\n",
       "      <td>-1.105559e+09</td>\n",
       "      <td>2.220402e+07</td>\n",
       "    </tr>\n",
       "    <tr>\n",
       "      <td>1</td>\n",
       "      <td>0.249329</td>\n",
       "      <td>0.011505</td>\n",
       "      <td>0.012486</td>\n",
       "      <td>0.000879</td>\n",
       "      <td>2</td>\n",
       "      <td>10</td>\n",
       "      <td>NaN</td>\n",
       "      <td>{'max_features': 2, 'n_estimators': 10}</td>\n",
       "      <td>-3.047771e+09</td>\n",
       "      <td>-3.254861e+09</td>\n",
       "      <td>...</td>\n",
       "      <td>-3.094381e+09</td>\n",
       "      <td>1.327046e+08</td>\n",
       "      <td>11</td>\n",
       "      <td>-5.927175e+08</td>\n",
       "      <td>-5.870952e+08</td>\n",
       "      <td>-5.776964e+08</td>\n",
       "      <td>-5.716332e+08</td>\n",
       "      <td>-5.802501e+08</td>\n",
       "      <td>-5.818785e+08</td>\n",
       "      <td>7.345821e+06</td>\n",
       "    </tr>\n",
       "    <tr>\n",
       "      <td>2</td>\n",
       "      <td>0.768680</td>\n",
       "      <td>0.038907</td>\n",
       "      <td>0.040050</td>\n",
       "      <td>0.004162</td>\n",
       "      <td>2</td>\n",
       "      <td>30</td>\n",
       "      <td>NaN</td>\n",
       "      <td>{'max_features': 2, 'n_estimators': 30}</td>\n",
       "      <td>-2.689185e+09</td>\n",
       "      <td>-3.021086e+09</td>\n",
       "      <td>...</td>\n",
       "      <td>-2.849913e+09</td>\n",
       "      <td>1.626879e+08</td>\n",
       "      <td>9</td>\n",
       "      <td>-4.381089e+08</td>\n",
       "      <td>-4.391272e+08</td>\n",
       "      <td>-4.371702e+08</td>\n",
       "      <td>-4.376955e+08</td>\n",
       "      <td>-4.452654e+08</td>\n",
       "      <td>-4.394734e+08</td>\n",
       "      <td>2.966320e+06</td>\n",
       "    </tr>\n",
       "    <tr>\n",
       "      <td>3</td>\n",
       "      <td>0.120663</td>\n",
       "      <td>0.001780</td>\n",
       "      <td>0.004419</td>\n",
       "      <td>0.000667</td>\n",
       "      <td>4</td>\n",
       "      <td>3</td>\n",
       "      <td>NaN</td>\n",
       "      <td>{'max_features': 4, 'n_estimators': 3}</td>\n",
       "      <td>-3.730181e+09</td>\n",
       "      <td>-3.786886e+09</td>\n",
       "      <td>...</td>\n",
       "      <td>-3.716852e+09</td>\n",
       "      <td>1.631421e+08</td>\n",
       "      <td>16</td>\n",
       "      <td>-9.865163e+08</td>\n",
       "      <td>-1.012565e+09</td>\n",
       "      <td>-9.169425e+08</td>\n",
       "      <td>-1.037400e+09</td>\n",
       "      <td>-9.707739e+08</td>\n",
       "      <td>-9.848396e+08</td>\n",
       "      <td>4.084607e+07</td>\n",
       "    </tr>\n",
       "    <tr>\n",
       "      <td>4</td>\n",
       "      <td>0.423410</td>\n",
       "      <td>0.013480</td>\n",
       "      <td>0.012501</td>\n",
       "      <td>0.001339</td>\n",
       "      <td>4</td>\n",
       "      <td>10</td>\n",
       "      <td>NaN</td>\n",
       "      <td>{'max_features': 4, 'n_estimators': 10}</td>\n",
       "      <td>-2.666283e+09</td>\n",
       "      <td>-2.784511e+09</td>\n",
       "      <td>...</td>\n",
       "      <td>-2.781611e+09</td>\n",
       "      <td>1.268562e+08</td>\n",
       "      <td>8</td>\n",
       "      <td>-5.097115e+08</td>\n",
       "      <td>-5.162820e+08</td>\n",
       "      <td>-4.962893e+08</td>\n",
       "      <td>-5.436192e+08</td>\n",
       "      <td>-5.160297e+08</td>\n",
       "      <td>-5.163863e+08</td>\n",
       "      <td>1.542862e+07</td>\n",
       "    </tr>\n",
       "    <tr>\n",
       "      <td>5</td>\n",
       "      <td>1.241596</td>\n",
       "      <td>0.044948</td>\n",
       "      <td>0.042304</td>\n",
       "      <td>0.008590</td>\n",
       "      <td>4</td>\n",
       "      <td>30</td>\n",
       "      <td>NaN</td>\n",
       "      <td>{'max_features': 4, 'n_estimators': 30}</td>\n",
       "      <td>-2.387153e+09</td>\n",
       "      <td>-2.588448e+09</td>\n",
       "      <td>...</td>\n",
       "      <td>-2.537877e+09</td>\n",
       "      <td>1.214603e+08</td>\n",
       "      <td>3</td>\n",
       "      <td>-3.838835e+08</td>\n",
       "      <td>-3.880268e+08</td>\n",
       "      <td>-3.790867e+08</td>\n",
       "      <td>-4.040957e+08</td>\n",
       "      <td>-3.845520e+08</td>\n",
       "      <td>-3.879289e+08</td>\n",
       "      <td>8.571233e+06</td>\n",
       "    </tr>\n",
       "    <tr>\n",
       "      <td>6</td>\n",
       "      <td>0.146429</td>\n",
       "      <td>0.018139</td>\n",
       "      <td>0.003663</td>\n",
       "      <td>0.000274</td>\n",
       "      <td>6</td>\n",
       "      <td>3</td>\n",
       "      <td>NaN</td>\n",
       "      <td>{'max_features': 6, 'n_estimators': 3}</td>\n",
       "      <td>-3.119657e+09</td>\n",
       "      <td>-3.586319e+09</td>\n",
       "      <td>...</td>\n",
       "      <td>-3.441447e+09</td>\n",
       "      <td>1.893141e+08</td>\n",
       "      <td>14</td>\n",
       "      <td>-9.245343e+08</td>\n",
       "      <td>-8.886939e+08</td>\n",
       "      <td>-9.353135e+08</td>\n",
       "      <td>-9.009801e+08</td>\n",
       "      <td>-8.624664e+08</td>\n",
       "      <td>-9.023976e+08</td>\n",
       "      <td>2.591445e+07</td>\n",
       "    </tr>\n",
       "    <tr>\n",
       "      <td>7</td>\n",
       "      <td>0.431108</td>\n",
       "      <td>0.006414</td>\n",
       "      <td>0.008684</td>\n",
       "      <td>0.000439</td>\n",
       "      <td>6</td>\n",
       "      <td>10</td>\n",
       "      <td>NaN</td>\n",
       "      <td>{'max_features': 6, 'n_estimators': 10}</td>\n",
       "      <td>-2.549663e+09</td>\n",
       "      <td>-2.782039e+09</td>\n",
       "      <td>...</td>\n",
       "      <td>-2.704640e+09</td>\n",
       "      <td>1.471542e+08</td>\n",
       "      <td>6</td>\n",
       "      <td>-4.980344e+08</td>\n",
       "      <td>-5.045869e+08</td>\n",
       "      <td>-4.994664e+08</td>\n",
       "      <td>-4.990325e+08</td>\n",
       "      <td>-5.055542e+08</td>\n",
       "      <td>-5.013349e+08</td>\n",
       "      <td>3.100456e+06</td>\n",
       "    </tr>\n",
       "    <tr>\n",
       "      <td>8</td>\n",
       "      <td>1.667755</td>\n",
       "      <td>0.050847</td>\n",
       "      <td>0.038492</td>\n",
       "      <td>0.001855</td>\n",
       "      <td>6</td>\n",
       "      <td>30</td>\n",
       "      <td>NaN</td>\n",
       "      <td>{'max_features': 6, 'n_estimators': 30}</td>\n",
       "      <td>-2.370010e+09</td>\n",
       "      <td>-2.583638e+09</td>\n",
       "      <td>...</td>\n",
       "      <td>-2.514668e+09</td>\n",
       "      <td>1.285063e+08</td>\n",
       "      <td>2</td>\n",
       "      <td>-3.838538e+08</td>\n",
       "      <td>-3.804711e+08</td>\n",
       "      <td>-3.805218e+08</td>\n",
       "      <td>-3.856095e+08</td>\n",
       "      <td>-3.901917e+08</td>\n",
       "      <td>-3.841296e+08</td>\n",
       "      <td>3.617057e+06</td>\n",
       "    </tr>\n",
       "    <tr>\n",
       "      <td>9</td>\n",
       "      <td>0.214597</td>\n",
       "      <td>0.009462</td>\n",
       "      <td>0.005015</td>\n",
       "      <td>0.000631</td>\n",
       "      <td>8</td>\n",
       "      <td>3</td>\n",
       "      <td>NaN</td>\n",
       "      <td>{'max_features': 8, 'n_estimators': 3}</td>\n",
       "      <td>-3.353504e+09</td>\n",
       "      <td>-3.348552e+09</td>\n",
       "      <td>...</td>\n",
       "      <td>-3.348851e+09</td>\n",
       "      <td>1.241864e+08</td>\n",
       "      <td>13</td>\n",
       "      <td>-9.228123e+08</td>\n",
       "      <td>-8.553031e+08</td>\n",
       "      <td>-8.603321e+08</td>\n",
       "      <td>-8.881964e+08</td>\n",
       "      <td>-9.151287e+08</td>\n",
       "      <td>-8.883545e+08</td>\n",
       "      <td>2.750227e+07</td>\n",
       "    </tr>\n",
       "    <tr>\n",
       "      <td>10</td>\n",
       "      <td>0.761086</td>\n",
       "      <td>0.042771</td>\n",
       "      <td>0.013459</td>\n",
       "      <td>0.001428</td>\n",
       "      <td>8</td>\n",
       "      <td>10</td>\n",
       "      <td>NaN</td>\n",
       "      <td>{'max_features': 8, 'n_estimators': 10}</td>\n",
       "      <td>-2.571970e+09</td>\n",
       "      <td>-2.718994e+09</td>\n",
       "      <td>...</td>\n",
       "      <td>-2.674037e+09</td>\n",
       "      <td>1.392720e+08</td>\n",
       "      <td>5</td>\n",
       "      <td>-4.932416e+08</td>\n",
       "      <td>-4.815238e+08</td>\n",
       "      <td>-4.730979e+08</td>\n",
       "      <td>-5.155367e+08</td>\n",
       "      <td>-4.985555e+08</td>\n",
       "      <td>-4.923911e+08</td>\n",
       "      <td>1.459294e+07</td>\n",
       "    </tr>\n",
       "    <tr>\n",
       "      <td>11</td>\n",
       "      <td>1.940626</td>\n",
       "      <td>0.166404</td>\n",
       "      <td>0.032039</td>\n",
       "      <td>0.005414</td>\n",
       "      <td>8</td>\n",
       "      <td>30</td>\n",
       "      <td>NaN</td>\n",
       "      <td>{'max_features': 8, 'n_estimators': 30}</td>\n",
       "      <td>-2.357390e+09</td>\n",
       "      <td>-2.546640e+09</td>\n",
       "      <td>...</td>\n",
       "      <td>-2.468326e+09</td>\n",
       "      <td>1.091647e+08</td>\n",
       "      <td>1</td>\n",
       "      <td>-3.841658e+08</td>\n",
       "      <td>-3.744500e+08</td>\n",
       "      <td>-3.773239e+08</td>\n",
       "      <td>-3.882250e+08</td>\n",
       "      <td>-3.810005e+08</td>\n",
       "      <td>-3.810330e+08</td>\n",
       "      <td>4.871017e+06</td>\n",
       "    </tr>\n",
       "    <tr>\n",
       "      <td>12</td>\n",
       "      <td>0.094038</td>\n",
       "      <td>0.003162</td>\n",
       "      <td>0.003705</td>\n",
       "      <td>0.000368</td>\n",
       "      <td>2</td>\n",
       "      <td>3</td>\n",
       "      <td>False</td>\n",
       "      <td>{'bootstrap': False, 'max_features': 2, 'n_est...</td>\n",
       "      <td>-3.785816e+09</td>\n",
       "      <td>-4.166012e+09</td>\n",
       "      <td>...</td>\n",
       "      <td>-3.955792e+09</td>\n",
       "      <td>1.900966e+08</td>\n",
       "      <td>17</td>\n",
       "      <td>-0.000000e+00</td>\n",
       "      <td>-0.000000e+00</td>\n",
       "      <td>-0.000000e+00</td>\n",
       "      <td>-0.000000e+00</td>\n",
       "      <td>-0.000000e+00</td>\n",
       "      <td>0.000000e+00</td>\n",
       "      <td>0.000000e+00</td>\n",
       "    </tr>\n",
       "    <tr>\n",
       "      <td>13</td>\n",
       "      <td>0.325861</td>\n",
       "      <td>0.052370</td>\n",
       "      <td>0.011810</td>\n",
       "      <td>0.002481</td>\n",
       "      <td>2</td>\n",
       "      <td>10</td>\n",
       "      <td>False</td>\n",
       "      <td>{'bootstrap': False, 'max_features': 2, 'n_est...</td>\n",
       "      <td>-2.810721e+09</td>\n",
       "      <td>-3.107789e+09</td>\n",
       "      <td>...</td>\n",
       "      <td>-2.987513e+09</td>\n",
       "      <td>1.539231e+08</td>\n",
       "      <td>10</td>\n",
       "      <td>-6.056477e-02</td>\n",
       "      <td>-0.000000e+00</td>\n",
       "      <td>-0.000000e+00</td>\n",
       "      <td>-0.000000e+00</td>\n",
       "      <td>-2.967449e+00</td>\n",
       "      <td>-6.056027e-01</td>\n",
       "      <td>1.181156e+00</td>\n",
       "    </tr>\n",
       "    <tr>\n",
       "      <td>14</td>\n",
       "      <td>0.179526</td>\n",
       "      <td>0.011616</td>\n",
       "      <td>0.005581</td>\n",
       "      <td>0.001985</td>\n",
       "      <td>3</td>\n",
       "      <td>3</td>\n",
       "      <td>False</td>\n",
       "      <td>{'bootstrap': False, 'max_features': 3, 'n_est...</td>\n",
       "      <td>-3.618324e+09</td>\n",
       "      <td>-3.441527e+09</td>\n",
       "      <td>...</td>\n",
       "      <td>-3.536728e+09</td>\n",
       "      <td>7.795196e+07</td>\n",
       "      <td>15</td>\n",
       "      <td>-0.000000e+00</td>\n",
       "      <td>-0.000000e+00</td>\n",
       "      <td>-0.000000e+00</td>\n",
       "      <td>-0.000000e+00</td>\n",
       "      <td>-6.072840e+01</td>\n",
       "      <td>-1.214568e+01</td>\n",
       "      <td>2.429136e+01</td>\n",
       "    </tr>\n",
       "    <tr>\n",
       "      <td>15</td>\n",
       "      <td>0.512678</td>\n",
       "      <td>0.020456</td>\n",
       "      <td>0.015502</td>\n",
       "      <td>0.000880</td>\n",
       "      <td>3</td>\n",
       "      <td>10</td>\n",
       "      <td>False</td>\n",
       "      <td>{'bootstrap': False, 'max_features': 3, 'n_est...</td>\n",
       "      <td>-2.757999e+09</td>\n",
       "      <td>-2.851737e+09</td>\n",
       "      <td>...</td>\n",
       "      <td>-2.779927e+09</td>\n",
       "      <td>6.286611e+07</td>\n",
       "      <td>7</td>\n",
       "      <td>-2.089484e+01</td>\n",
       "      <td>-0.000000e+00</td>\n",
       "      <td>-0.000000e+00</td>\n",
       "      <td>-0.000000e+00</td>\n",
       "      <td>-5.465556e+00</td>\n",
       "      <td>-5.272080e+00</td>\n",
       "      <td>8.093117e+00</td>\n",
       "    </tr>\n",
       "    <tr>\n",
       "      <td>16</td>\n",
       "      <td>0.206139</td>\n",
       "      <td>0.010707</td>\n",
       "      <td>0.005508</td>\n",
       "      <td>0.001018</td>\n",
       "      <td>4</td>\n",
       "      <td>3</td>\n",
       "      <td>False</td>\n",
       "      <td>{'bootstrap': False, 'max_features': 4, 'n_est...</td>\n",
       "      <td>-3.134040e+09</td>\n",
       "      <td>-3.559375e+09</td>\n",
       "      <td>...</td>\n",
       "      <td>-3.305171e+09</td>\n",
       "      <td>1.879203e+08</td>\n",
       "      <td>12</td>\n",
       "      <td>-0.000000e+00</td>\n",
       "      <td>-0.000000e+00</td>\n",
       "      <td>-0.000000e+00</td>\n",
       "      <td>-0.000000e+00</td>\n",
       "      <td>-0.000000e+00</td>\n",
       "      <td>0.000000e+00</td>\n",
       "      <td>0.000000e+00</td>\n",
       "    </tr>\n",
       "    <tr>\n",
       "      <td>17</td>\n",
       "      <td>0.630921</td>\n",
       "      <td>0.026320</td>\n",
       "      <td>0.014319</td>\n",
       "      <td>0.000647</td>\n",
       "      <td>4</td>\n",
       "      <td>10</td>\n",
       "      <td>False</td>\n",
       "      <td>{'bootstrap': False, 'max_features': 4, 'n_est...</td>\n",
       "      <td>-2.525578e+09</td>\n",
       "      <td>-2.710011e+09</td>\n",
       "      <td>...</td>\n",
       "      <td>-2.601971e+09</td>\n",
       "      <td>1.088031e+08</td>\n",
       "      <td>4</td>\n",
       "      <td>-0.000000e+00</td>\n",
       "      <td>-1.514119e-02</td>\n",
       "      <td>-0.000000e+00</td>\n",
       "      <td>-0.000000e+00</td>\n",
       "      <td>-0.000000e+00</td>\n",
       "      <td>-3.028238e-03</td>\n",
       "      <td>6.056477e-03</td>\n",
       "    </tr>\n",
       "  </tbody>\n",
       "</table>\n",
       "<p>18 rows × 23 columns</p>\n",
       "</div>"
      ],
      "text/plain": [
       "    mean_fit_time  std_fit_time  mean_score_time  std_score_time  \\\n",
       "0        0.083875      0.006181         0.004881        0.000494   \n",
       "1        0.249329      0.011505         0.012486        0.000879   \n",
       "2        0.768680      0.038907         0.040050        0.004162   \n",
       "3        0.120663      0.001780         0.004419        0.000667   \n",
       "4        0.423410      0.013480         0.012501        0.001339   \n",
       "5        1.241596      0.044948         0.042304        0.008590   \n",
       "6        0.146429      0.018139         0.003663        0.000274   \n",
       "7        0.431108      0.006414         0.008684        0.000439   \n",
       "8        1.667755      0.050847         0.038492        0.001855   \n",
       "9        0.214597      0.009462         0.005015        0.000631   \n",
       "10       0.761086      0.042771         0.013459        0.001428   \n",
       "11       1.940626      0.166404         0.032039        0.005414   \n",
       "12       0.094038      0.003162         0.003705        0.000368   \n",
       "13       0.325861      0.052370         0.011810        0.002481   \n",
       "14       0.179526      0.011616         0.005581        0.001985   \n",
       "15       0.512678      0.020456         0.015502        0.000880   \n",
       "16       0.206139      0.010707         0.005508        0.001018   \n",
       "17       0.630921      0.026320         0.014319        0.000647   \n",
       "\n",
       "   param_max_features param_n_estimators param_bootstrap  \\\n",
       "0                   2                  3             NaN   \n",
       "1                   2                 10             NaN   \n",
       "2                   2                 30             NaN   \n",
       "3                   4                  3             NaN   \n",
       "4                   4                 10             NaN   \n",
       "5                   4                 30             NaN   \n",
       "6                   6                  3             NaN   \n",
       "7                   6                 10             NaN   \n",
       "8                   6                 30             NaN   \n",
       "9                   8                  3             NaN   \n",
       "10                  8                 10             NaN   \n",
       "11                  8                 30             NaN   \n",
       "12                  2                  3           False   \n",
       "13                  2                 10           False   \n",
       "14                  3                  3           False   \n",
       "15                  3                 10           False   \n",
       "16                  4                  3           False   \n",
       "17                  4                 10           False   \n",
       "\n",
       "                                               params  split0_test_score  \\\n",
       "0              {'max_features': 2, 'n_estimators': 3}      -3.837622e+09   \n",
       "1             {'max_features': 2, 'n_estimators': 10}      -3.047771e+09   \n",
       "2             {'max_features': 2, 'n_estimators': 30}      -2.689185e+09   \n",
       "3              {'max_features': 4, 'n_estimators': 3}      -3.730181e+09   \n",
       "4             {'max_features': 4, 'n_estimators': 10}      -2.666283e+09   \n",
       "5             {'max_features': 4, 'n_estimators': 30}      -2.387153e+09   \n",
       "6              {'max_features': 6, 'n_estimators': 3}      -3.119657e+09   \n",
       "7             {'max_features': 6, 'n_estimators': 10}      -2.549663e+09   \n",
       "8             {'max_features': 6, 'n_estimators': 30}      -2.370010e+09   \n",
       "9              {'max_features': 8, 'n_estimators': 3}      -3.353504e+09   \n",
       "10            {'max_features': 8, 'n_estimators': 10}      -2.571970e+09   \n",
       "11            {'max_features': 8, 'n_estimators': 30}      -2.357390e+09   \n",
       "12  {'bootstrap': False, 'max_features': 2, 'n_est...      -3.785816e+09   \n",
       "13  {'bootstrap': False, 'max_features': 2, 'n_est...      -2.810721e+09   \n",
       "14  {'bootstrap': False, 'max_features': 3, 'n_est...      -3.618324e+09   \n",
       "15  {'bootstrap': False, 'max_features': 3, 'n_est...      -2.757999e+09   \n",
       "16  {'bootstrap': False, 'max_features': 4, 'n_est...      -3.134040e+09   \n",
       "17  {'bootstrap': False, 'max_features': 4, 'n_est...      -2.525578e+09   \n",
       "\n",
       "    split1_test_score  ...  mean_test_score  std_test_score  rank_test_score  \\\n",
       "0       -4.147108e+09  ...    -4.053749e+09    1.519609e+08               18   \n",
       "1       -3.254861e+09  ...    -3.094381e+09    1.327046e+08               11   \n",
       "2       -3.021086e+09  ...    -2.849913e+09    1.626879e+08                9   \n",
       "3       -3.786886e+09  ...    -3.716852e+09    1.631421e+08               16   \n",
       "4       -2.784511e+09  ...    -2.781611e+09    1.268562e+08                8   \n",
       "5       -2.588448e+09  ...    -2.537877e+09    1.214603e+08                3   \n",
       "6       -3.586319e+09  ...    -3.441447e+09    1.893141e+08               14   \n",
       "7       -2.782039e+09  ...    -2.704640e+09    1.471542e+08                6   \n",
       "8       -2.583638e+09  ...    -2.514668e+09    1.285063e+08                2   \n",
       "9       -3.348552e+09  ...    -3.348851e+09    1.241864e+08               13   \n",
       "10      -2.718994e+09  ...    -2.674037e+09    1.392720e+08                5   \n",
       "11      -2.546640e+09  ...    -2.468326e+09    1.091647e+08                1   \n",
       "12      -4.166012e+09  ...    -3.955792e+09    1.900966e+08               17   \n",
       "13      -3.107789e+09  ...    -2.987513e+09    1.539231e+08               10   \n",
       "14      -3.441527e+09  ...    -3.536728e+09    7.795196e+07               15   \n",
       "15      -2.851737e+09  ...    -2.779927e+09    6.286611e+07                7   \n",
       "16      -3.559375e+09  ...    -3.305171e+09    1.879203e+08               12   \n",
       "17      -2.710011e+09  ...    -2.601971e+09    1.088031e+08                4   \n",
       "\n",
       "    split0_train_score  split1_train_score  split2_train_score  \\\n",
       "0        -1.064113e+09       -1.105142e+09       -1.116550e+09   \n",
       "1        -5.927175e+08       -5.870952e+08       -5.776964e+08   \n",
       "2        -4.381089e+08       -4.391272e+08       -4.371702e+08   \n",
       "3        -9.865163e+08       -1.012565e+09       -9.169425e+08   \n",
       "4        -5.097115e+08       -5.162820e+08       -4.962893e+08   \n",
       "5        -3.838835e+08       -3.880268e+08       -3.790867e+08   \n",
       "6        -9.245343e+08       -8.886939e+08       -9.353135e+08   \n",
       "7        -4.980344e+08       -5.045869e+08       -4.994664e+08   \n",
       "8        -3.838538e+08       -3.804711e+08       -3.805218e+08   \n",
       "9        -9.228123e+08       -8.553031e+08       -8.603321e+08   \n",
       "10       -4.932416e+08       -4.815238e+08       -4.730979e+08   \n",
       "11       -3.841658e+08       -3.744500e+08       -3.773239e+08   \n",
       "12       -0.000000e+00       -0.000000e+00       -0.000000e+00   \n",
       "13       -6.056477e-02       -0.000000e+00       -0.000000e+00   \n",
       "14       -0.000000e+00       -0.000000e+00       -0.000000e+00   \n",
       "15       -2.089484e+01       -0.000000e+00       -0.000000e+00   \n",
       "16       -0.000000e+00       -0.000000e+00       -0.000000e+00   \n",
       "17       -0.000000e+00       -1.514119e-02       -0.000000e+00   \n",
       "\n",
       "    split3_train_score  split4_train_score  mean_train_score  std_train_score  \n",
       "0        -1.112342e+09       -1.129650e+09     -1.105559e+09     2.220402e+07  \n",
       "1        -5.716332e+08       -5.802501e+08     -5.818785e+08     7.345821e+06  \n",
       "2        -4.376955e+08       -4.452654e+08     -4.394734e+08     2.966320e+06  \n",
       "3        -1.037400e+09       -9.707739e+08     -9.848396e+08     4.084607e+07  \n",
       "4        -5.436192e+08       -5.160297e+08     -5.163863e+08     1.542862e+07  \n",
       "5        -4.040957e+08       -3.845520e+08     -3.879289e+08     8.571233e+06  \n",
       "6        -9.009801e+08       -8.624664e+08     -9.023976e+08     2.591445e+07  \n",
       "7        -4.990325e+08       -5.055542e+08     -5.013349e+08     3.100456e+06  \n",
       "8        -3.856095e+08       -3.901917e+08     -3.841296e+08     3.617057e+06  \n",
       "9        -8.881964e+08       -9.151287e+08     -8.883545e+08     2.750227e+07  \n",
       "10       -5.155367e+08       -4.985555e+08     -4.923911e+08     1.459294e+07  \n",
       "11       -3.882250e+08       -3.810005e+08     -3.810330e+08     4.871017e+06  \n",
       "12       -0.000000e+00       -0.000000e+00      0.000000e+00     0.000000e+00  \n",
       "13       -0.000000e+00       -2.967449e+00     -6.056027e-01     1.181156e+00  \n",
       "14       -0.000000e+00       -6.072840e+01     -1.214568e+01     2.429136e+01  \n",
       "15       -0.000000e+00       -5.465556e+00     -5.272080e+00     8.093117e+00  \n",
       "16       -0.000000e+00       -0.000000e+00      0.000000e+00     0.000000e+00  \n",
       "17       -0.000000e+00       -0.000000e+00     -3.028238e-03     6.056477e-03  \n",
       "\n",
       "[18 rows x 23 columns]"
      ]
     },
     "execution_count": 91,
     "metadata": {},
     "output_type": "execute_result"
    }
   ],
   "source": [
    "pd.DataFrame(grid_search.cv_results_)"
   ]
  },
  {
   "cell_type": "markdown",
   "metadata": {},
   "source": [
    "We obtain the best solution by setting the max_features hyperparameter to 8 and the n_estimators hyperparameter to 30. The RMSE score for this combination is 49,682 which is slightly better than the score we got earlier using the default hyperparameter values (which was 50,182)."
   ]
  },
  {
   "cell_type": "code",
   "execution_count": 92,
   "metadata": {},
   "outputs": [
    {
     "data": {
      "text/plain": [
       "RandomizedSearchCV(cv=5, error_score='raise-deprecating',\n",
       "                   estimator=RandomForestRegressor(bootstrap=True,\n",
       "                                                   criterion='mse',\n",
       "                                                   max_depth=None,\n",
       "                                                   max_features='auto',\n",
       "                                                   max_leaf_nodes=None,\n",
       "                                                   min_impurity_decrease=0.0,\n",
       "                                                   min_impurity_split=None,\n",
       "                                                   min_samples_leaf=1,\n",
       "                                                   min_samples_split=2,\n",
       "                                                   min_weight_fraction_leaf=0.0,\n",
       "                                                   n_estimators='warn',\n",
       "                                                   n_jobs=None, oob_score=False,\n",
       "                                                   random_sta...\n",
       "                                                   warm_start=False),\n",
       "                   iid='warn', n_iter=10, n_jobs=None,\n",
       "                   param_distributions={'max_features': <scipy.stats._distn_infrastructure.rv_frozen object at 0x7f09c8404fd0>,\n",
       "                                        'n_estimators': <scipy.stats._distn_infrastructure.rv_frozen object at 0x7f09c83981d0>},\n",
       "                   pre_dispatch='2*n_jobs', random_state=42, refit=True,\n",
       "                   return_train_score=False, scoring='neg_mean_squared_error',\n",
       "                   verbose=0)"
      ]
     },
     "execution_count": 92,
     "metadata": {},
     "output_type": "execute_result"
    }
   ],
   "source": [
    "from sklearn.model_selection import RandomizedSearchCV\n",
    "from scipy.stats import randint\n",
    "\n",
    "param_distribs={\n",
    "        'n_estimators':randint(low=1,high=200),\n",
    "        'max_features':randint(low=1,high=8),\n",
    "    }\n",
    "\n",
    "forest_reg=RandomForestRegressor(random_state=42)\n",
    "rnd_search=RandomizedSearchCV(forest_reg,param_distributions=param_distribs,\n",
    "                             n_iter=10,cv=5,scoring='neg_mean_squared_error',\n",
    "                             random_state=42)\n",
    "rnd_search.fit(housing_prepared,housing_labels)"
   ]
  },
  {
   "cell_type": "code",
   "execution_count": 93,
   "metadata": {},
   "outputs": [
    {
     "data": {
      "text/plain": [
       "{'max_features': 7, 'n_estimators': 180}"
      ]
     },
     "execution_count": 93,
     "metadata": {},
     "output_type": "execute_result"
    }
   ],
   "source": [
    "rnd_search.best_params_"
   ]
  },
  {
   "cell_type": "code",
   "execution_count": 94,
   "metadata": {},
   "outputs": [
    {
     "data": {
      "text/plain": [
       "RandomForestRegressor(bootstrap=True, criterion='mse', max_depth=None,\n",
       "                      max_features=7, max_leaf_nodes=None,\n",
       "                      min_impurity_decrease=0.0, min_impurity_split=None,\n",
       "                      min_samples_leaf=1, min_samples_split=2,\n",
       "                      min_weight_fraction_leaf=0.0, n_estimators=180,\n",
       "                      n_jobs=None, oob_score=False, random_state=42, verbose=0,\n",
       "                      warm_start=False)"
      ]
     },
     "execution_count": 94,
     "metadata": {},
     "output_type": "execute_result"
    }
   ],
   "source": [
    "rnd_search.best_estimator_"
   ]
  },
  {
   "cell_type": "code",
   "execution_count": 95,
   "metadata": {},
   "outputs": [
    {
     "name": "stdout",
     "output_type": "stream",
     "text": [
      "49150.657232934034 {'max_features': 7, 'n_estimators': 180}\n",
      "51389.85295710133 {'max_features': 5, 'n_estimators': 15}\n",
      "50796.12045980556 {'max_features': 3, 'n_estimators': 72}\n",
      "50835.09932039744 {'max_features': 5, 'n_estimators': 21}\n",
      "49280.90117886215 {'max_features': 7, 'n_estimators': 122}\n",
      "50774.86679035961 {'max_features': 3, 'n_estimators': 75}\n",
      "50682.75001237282 {'max_features': 3, 'n_estimators': 88}\n",
      "49608.94061293652 {'max_features': 5, 'n_estimators': 100}\n",
      "50473.57642831875 {'max_features': 3, 'n_estimators': 150}\n",
      "64429.763804893395 {'max_features': 5, 'n_estimators': 2}\n"
     ]
    }
   ],
   "source": [
    "cvres=rnd_search.cv_results_\n",
    "for mean_score,params in zip(cvres['mean_test_score'],cvres['params']):\n",
    "    print(np.sqrt(-mean_score),params)"
   ]
  },
  {
   "cell_type": "code",
   "execution_count": 96,
   "metadata": {},
   "outputs": [
    {
     "data": {
      "text/plain": [
       "array([7.33442355e-02, 6.29090705e-02, 4.11437985e-02, 1.46726854e-02,\n",
       "       1.41064835e-02, 1.48742809e-02, 1.42575993e-02, 3.66158981e-01,\n",
       "       5.64191792e-02, 1.08792957e-01, 5.33510773e-02, 1.03114883e-02,\n",
       "       1.64780994e-01, 6.02803867e-05, 1.96041560e-03, 2.85647464e-03])"
      ]
     },
     "execution_count": 96,
     "metadata": {},
     "output_type": "execute_result"
    }
   ],
   "source": [
    "feature_importances=grid_search.best_estimator_.feature_importances_\n",
    "feature_importances"
   ]
  },
  {
   "cell_type": "code",
   "execution_count": 97,
   "metadata": {},
   "outputs": [
    {
     "data": {
      "text/plain": [
       "[(0.36615898061813423, 'median_income'),\n",
       " (0.16478099356159054, 'INLAND'),\n",
       " (0.10879295677551575, 'pop_per_hhold'),\n",
       " (0.07334423551601243, 'longitude'),\n",
       " (0.06290907048262032, 'latitude'),\n",
       " (0.056419179181954014, 'rooms_per_hhold'),\n",
       " (0.053351077347675815, 'bedrooms_per_room'),\n",
       " (0.04114379847872964, 'housing_median_age'),\n",
       " (0.014874280890402769, 'population'),\n",
       " (0.014672685420543239, 'total_rooms'),\n",
       " (0.014257599323407808, 'households'),\n",
       " (0.014106483453584104, 'total_bedrooms'),\n",
       " (0.010311488326303788, '<1H OCEAN'),\n",
       " (0.0028564746373201584, 'NEAR OCEAN'),\n",
       " (0.0019604155994780706, 'NEAR BAY'),\n",
       " (6.0280386727366e-05, 'ISLAND')]"
      ]
     },
     "execution_count": 97,
     "metadata": {},
     "output_type": "execute_result"
    }
   ],
   "source": [
    "extra_attribs=[\"rooms_per_hhold\",\"pop_per_hhold\",\"bedrooms_per_room\"]\n",
    "cat_encoder=full_pipeline.named_transformers_['cat']\n",
    "cat_one_hot_attribs=list(cat_encoder.categories_[0])\n",
    "attributes=num_attribs+extra_attribs+cat_one_hot_attribs\n",
    "sorted(zip(feature_importances,attributes),reverse=True)"
   ]
  },
  {
   "cell_type": "code",
   "execution_count": 98,
   "metadata": {},
   "outputs": [],
   "source": [
    "final_model=grid_search.best_estimator_\n",
    "\n",
    "X_test=strat_test_set.drop('median_house_value',axis=1)\n",
    "y_test=strat_test_set['median_house_value'].copy()\n",
    "\n",
    "X_test_prepared=full_pipeline.transform(X_test)\n",
    "final_predictions=final_model.predict(X_test_prepared)\n",
    "\n",
    "final_mse=mean_squared_error(y_test,final_predictions)\n",
    "final_rmse=np.sqrt(final_mse)"
   ]
  },
  {
   "cell_type": "code",
   "execution_count": 99,
   "metadata": {},
   "outputs": [
    {
     "data": {
      "text/plain": [
       "47730.22690385927"
      ]
     },
     "execution_count": 99,
     "metadata": {},
     "output_type": "execute_result"
    }
   ],
   "source": [
    "final_rmse"
   ]
  },
  {
   "cell_type": "markdown",
   "metadata": {},
   "source": [
    "We can compute a 95% confidence interval for the test RMSE:"
   ]
  },
  {
   "cell_type": "code",
   "execution_count": 100,
   "metadata": {},
   "outputs": [
    {
     "data": {
      "text/plain": [
       "array([45685.10470776, 49691.25001878])"
      ]
     },
     "execution_count": 100,
     "metadata": {},
     "output_type": "execute_result"
    }
   ],
   "source": [
    "from scipy import stats\n",
    "\n",
    "confidence=0.95\n",
    "squared_errors=(final_predictions-y_test)**2\n",
    "np.sqrt(stats.t.interval(confidence,len(squared_errors)-1,\n",
    "                        loc=squared_errors.mean(),\n",
    "                        scale=stats.sem(squared_errors)))"
   ]
  },
  {
   "cell_type": "markdown",
   "metadata": {},
   "source": [
    "We could compute the interval manually like this:\n"
   ]
  },
  {
   "cell_type": "code",
   "execution_count": 101,
   "metadata": {},
   "outputs": [
    {
     "data": {
      "text/plain": [
       "(45685.10470776, 49691.25001877858)"
      ]
     },
     "execution_count": 101,
     "metadata": {},
     "output_type": "execute_result"
    }
   ],
   "source": [
    "m=len(squared_errors)\n",
    "mean=squared_errors.mean()\n",
    "tscore=stats.t.ppf((1+confidence)/2,df=m-1)\n",
    "tmargin=tscore*squared_errors.std(ddof=1)/np.sqrt(m)\n",
    "np.sqrt(mean-tmargin),np.sqrt(mean+tmargin)"
   ]
  },
  {
   "cell_type": "markdown",
   "metadata": {},
   "source": [
    "Alternatively, we could use z-scores rather than t-scores:"
   ]
  },
  {
   "cell_type": "code",
   "execution_count": 102,
   "metadata": {},
   "outputs": [
    {
     "data": {
      "text/plain": [
       "(45685.717918136455, 49690.68623889413)"
      ]
     },
     "execution_count": 102,
     "metadata": {},
     "output_type": "execute_result"
    }
   ],
   "source": [
    "zscore=stats.norm.ppf((1+confidence)/2)\n",
    "zmargin=zscore*squared_errors.std(ddof=1)/np.sqrt(m)\n",
    "np.sqrt(mean-zmargin),np.sqrt(mean+zmargin)"
   ]
  },
  {
   "cell_type": "code",
   "execution_count": 103,
   "metadata": {},
   "outputs": [
    {
     "data": {
      "text/plain": [
       "array([210644.60459286, 317768.80697211, 210956.43331178,  59218.98886849,\n",
       "       189747.55849879])"
      ]
     },
     "execution_count": 103,
     "metadata": {},
     "output_type": "execute_result"
    }
   ],
   "source": [
    "full_pipeline_with_predictor = Pipeline([\n",
    "        (\"preparation\", full_pipeline),\n",
    "        (\"linear\", LinearRegression())\n",
    "    ])\n",
    "\n",
    "full_pipeline_with_predictor.fit(housing, housing_labels)\n",
    "full_pipeline_with_predictor.predict(some_data)"
   ]
  },
  {
   "cell_type": "code",
   "execution_count": 104,
   "metadata": {},
   "outputs": [],
   "source": [
    "my_model = full_pipeline_with_predictor"
   ]
  },
  {
   "cell_type": "code",
   "execution_count": 105,
   "metadata": {},
   "outputs": [],
   "source": [
    "import joblib\n",
    "joblib.dump(my_model, \"my_model.pkl\") # DIFF\n",
    "#...\n",
    "my_model_loaded = joblib.load(\"my_model.pkl\") # DIFF"
   ]
  },
  {
   "cell_type": "code",
   "execution_count": null,
   "metadata": {},
   "outputs": [],
   "source": []
  }
 ],
 "metadata": {
  "kernelspec": {
   "display_name": "Python 3",
   "language": "python",
   "name": "python3"
  },
  "language_info": {
   "codemirror_mode": {
    "name": "ipython",
    "version": 3
   },
   "file_extension": ".py",
   "mimetype": "text/x-python",
   "name": "python",
   "nbconvert_exporter": "python",
   "pygments_lexer": "ipython3",
   "version": "3.7.4"
  }
 },
 "nbformat": 4,
 "nbformat_minor": 2
}
